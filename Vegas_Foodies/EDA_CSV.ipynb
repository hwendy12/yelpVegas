{
 "cells": [
  {
   "cell_type": "markdown",
   "metadata": {
    "colab_type": "text",
    "id": "jxMEZj0I3lgR"
   },
   "source": [
    "Questions to be considered:\n",
    "\n",
    "\n",
    "1. Distribution of categories\n",
    "2. Average reviews for highest ranking\n",
    "3. Distribution of stars\n",
    "4. Distribution of restaurants by cities\n",
    "5. Zoom in more details for one most populous category\n"
   ]
  },
  {
   "cell_type": "code",
   "execution_count": 1,
   "metadata": {
    "colab": {
     "base_uri": "https://localhost:8080/",
     "height": 87
    },
    "colab_type": "code",
    "executionInfo": {
     "elapsed": 2533,
     "status": "ok",
     "timestamp": 1575254152793,
     "user": {
      "displayName": "Emmy Phung",
      "photoUrl": "https://lh3.googleusercontent.com/a-/AAuE7mB0XMWxbfbNKbYDfXLX0_DPwLUNj1CQ0JzU4Gcd=s64",
      "userId": "15191778731511742618"
     },
     "user_tz": 300
    },
    "id": "aB_B_LWNFD2z",
    "outputId": "8f80a23d-49ed-4831-d38e-36c036cba926"
   },
   "outputs": [],
   "source": [
    "import pandas as pd\n",
    "import numpy as np\n",
    "import matplotlib.pyplot as plt\n",
    "\n",
    "import warnings\n",
    "warnings.filterwarnings(\"ignore\")"
   ]
  },
  {
   "cell_type": "code",
   "execution_count": 2,
   "metadata": {},
   "outputs": [
    {
     "name": "stdout",
     "output_type": "stream",
     "text": [
      "/Users/lisacombs/Documents/FALL2019/INTRO_DS/Project/notebooks\r\n"
     ]
    }
   ],
   "source": [
    "!pwd"
   ]
  },
  {
   "cell_type": "code",
   "execution_count": 3,
   "metadata": {
    "colab": {},
    "colab_type": "code",
    "id": "YShnvySPYDXW"
   },
   "outputs": [],
   "source": [
    "biz_file_path = '/Users/lisacombs/Documents/FALL2019/INTRO_DS/Project/clean_data/restaurant_open.csv'\n",
    "biz_att_file_path = '/Users/lisacombs/Documents/FALL2019/INTRO_DS/Project/raw_data/yelp_business_attributes.csv'\n",
    "# https://www.kaggle.com/yelp-dataset/yelp-dataset/version/4#yelp_business_attributes.csv"
   ]
  },
  {
   "cell_type": "code",
   "execution_count": 4,
   "metadata": {
    "colab": {},
    "colab_type": "code",
    "id": "6whDWpFmFmzj"
   },
   "outputs": [],
   "source": [
    "biz_df = pd.read_csv(biz_file_path)\n",
    "biz_att = pd.read_csv(biz_att_file_path)"
   ]
  },
  {
   "cell_type": "code",
   "execution_count": 5,
   "metadata": {
    "colab": {
     "base_uri": "https://localhost:8080/",
     "height": 1000
    },
    "colab_type": "code",
    "executionInfo": {
     "elapsed": 5163,
     "status": "ok",
     "timestamp": 1575254155457,
     "user": {
      "displayName": "Emmy Phung",
      "photoUrl": "https://lh3.googleusercontent.com/a-/AAuE7mB0XMWxbfbNKbYDfXLX0_DPwLUNj1CQ0JzU4Gcd=s64",
      "userId": "15191778731511742618"
     },
     "user_tz": 300
    },
    "id": "pU-lj6mpVq64",
    "outputId": "4889755c-c41f-4d00-cae1-b24290633c86"
   },
   "outputs": [
    {
     "data": {
      "text/plain": [
       "['Unnamed: 0',\n",
       " 'business_id',\n",
       " 'name',\n",
       " 'neighborhood',\n",
       " 'address',\n",
       " 'city',\n",
       " 'state',\n",
       " 'postal_code',\n",
       " 'latitude',\n",
       " 'longitude']"
      ]
     },
     "execution_count": 5,
     "metadata": {},
     "output_type": "execute_result"
    }
   ],
   "source": [
    "data = pd.merge(biz_df,biz_att, on='business_id')\n",
    "data.columns.tolist()[0:10]"
   ]
  },
  {
   "cell_type": "code",
   "execution_count": 6,
   "metadata": {
    "colab": {
     "base_uri": "https://localhost:8080/",
     "height": 34
    },
    "colab_type": "code",
    "executionInfo": {
     "elapsed": 5150,
     "status": "ok",
     "timestamp": 1575254155459,
     "user": {
      "displayName": "Emmy Phung",
      "photoUrl": "https://lh3.googleusercontent.com/a-/AAuE7mB0XMWxbfbNKbYDfXLX0_DPwLUNj1CQ0JzU4Gcd=s64",
      "userId": "15191778731511742618"
     },
     "user_tz": 300
    },
    "id": "IxGI_3rE7b3c",
    "outputId": "463f525d-fd87-46f3-bbbd-82f174c8b80a"
   },
   "outputs": [
    {
     "data": {
      "text/plain": [
       "98"
      ]
     },
     "execution_count": 6,
     "metadata": {},
     "output_type": "execute_result"
    }
   ],
   "source": [
    "att = data.columns.tolist()\n",
    "len(att)"
   ]
  },
  {
   "cell_type": "code",
   "execution_count": 7,
   "metadata": {
    "colab": {},
    "colab_type": "code",
    "id": "kKcxAlxUFr__"
   },
   "outputs": [],
   "source": [
    "data['BusinessParking_street']\n",
    "\n",
    "data.replace(to_replace='True', value = 1,inplace=True)\n",
    "data.replace(to_replace='False', value = 0,inplace=True)\n",
    "data.replace(to_replace='Na', value = 0.5,inplace=True) #only treat this as a categorical variable"
   ]
  },
  {
   "cell_type": "code",
   "execution_count": 8,
   "metadata": {
    "colab": {},
    "colab_type": "code",
    "id": "C4MLdDy6duYe"
   },
   "outputs": [],
   "source": [
    "data.replace(to_replace= ['beer_and_wine',        'casual',          'free',\n",
    "            'full_bar',          'loud', 'outdoor',         'quiet',           'yes',      'yes_free', '1', '2'], value = 1,inplace=True)\n",
    "data.replace(to_replace=['no', 'none'], value = 0,inplace=True)"
   ]
  },
  {
   "cell_type": "code",
   "execution_count": 9,
   "metadata": {
    "colab": {},
    "colab_type": "code",
    "id": "Wu0vf1K7SjlG"
   },
   "outputs": [],
   "source": [
    "vegas = data[data['city']=='Las Vegas']\n",
    "vegas.head()\n",
    "\n",
    "att = vegas.iloc[:,16:]"
   ]
  },
  {
   "cell_type": "code",
   "execution_count": 10,
   "metadata": {
    "colab": {},
    "colab_type": "code",
    "id": "hCmqbRn9pTAU"
   },
   "outputs": [],
   "source": [
    "features = ['Unnamed: 0',\n",
    " 'business_id',\n",
    " 'name',\n",
    " 'neighborhood',\n",
    " 'address',\n",
    " 'city',\n",
    " 'state',\n",
    " 'postal_code',\n",
    " 'latitude',\n",
    " 'longitude',\n",
    " 'stars',\n",
    " 'review_count',\n",
    " 'is_open',\n",
    " 'categories',\n",
    " 'hours',]"
   ]
  },
  {
   "cell_type": "code",
   "execution_count": 11,
   "metadata": {
    "colab": {},
    "colab_type": "code",
    "id": "Ygu0_JRYb1_S"
   },
   "outputs": [],
   "source": [
    "d = att.apply(pd.value_counts)\n",
    "\n",
    "col_names = d.columns.tolist()"
   ]
  },
  {
   "cell_type": "code",
   "execution_count": 12,
   "metadata": {
    "colab": {},
    "colab_type": "code",
    "id": "_LnHGAUHoeV_"
   },
   "outputs": [],
   "source": [
    "d = d.drop(columns ='HairSpecializesIn_coloring')"
   ]
  },
  {
   "cell_type": "code",
   "execution_count": 13,
   "metadata": {
    "colab": {},
    "colab_type": "code",
    "id": "Ncx3GEADh7KC"
   },
   "outputs": [],
   "source": [
    "col = d.loc[:,~(d == att.shape[0]).any()].columns.tolist()\n",
    "# d.loc[:,~(d == float(att.shape[0])).any()]"
   ]
  },
  {
   "cell_type": "code",
   "execution_count": 14,
   "metadata": {
    "colab": {},
    "colab_type": "code",
    "id": "-ifL5jDhGBVP"
   },
   "outputs": [],
   "source": [
    "colnames = features + col\n",
    "dataclean = data[colnames]"
   ]
  },
  {
   "cell_type": "code",
   "execution_count": 15,
   "metadata": {
    "colab": {},
    "colab_type": "code",
    "id": "OWYngXhNtZ9s"
   },
   "outputs": [],
   "source": [
    "vegas_clean = dataclean[dataclean['city']=='Las Vegas']"
   ]
  },
  {
   "cell_type": "code",
   "execution_count": 16,
   "metadata": {
    "colab": {
     "base_uri": "https://localhost:8080/",
     "height": 52
    },
    "colab_type": "code",
    "executionInfo": {
     "elapsed": 7343,
     "status": "ok",
     "timestamp": 1575254157840,
     "user": {
      "displayName": "Emmy Phung",
      "photoUrl": "https://lh3.googleusercontent.com/a-/AAuE7mB0XMWxbfbNKbYDfXLX0_DPwLUNj1CQ0JzU4Gcd=s64",
      "userId": "15191778731511742618"
     },
     "user_tz": 300
    },
    "id": "c6ZomVNOmHnC",
    "outputId": "79a47d46-3f0d-4788-9af3-54c7a59b566d"
   },
   "outputs": [
    {
     "name": "stdout",
     "output_type": "stream",
     "text": [
      "564\n",
      "387\n"
     ]
    }
   ],
   "source": [
    "# business_df['categories'].head()\n",
    "categories_df = vegas_clean['categories'].str.split(',', expand = True)\n",
    "cat_ls = categories_df.values.flatten()\n",
    "cat_ls = list(filter(None, cat_ls)) \n",
    "cat_ls = np.unique(cat_ls)\n",
    "print(len(cat_ls))\n",
    "# # clean the words\n",
    "# leading whitespace \n",
    "cat_ls = [s.strip() for s in cat_ls] \n",
    "cat_ls = np.unique(cat_ls)\n",
    "print(len(cat_ls))"
   ]
  },
  {
   "cell_type": "code",
   "execution_count": 17,
   "metadata": {
    "colab": {
     "base_uri": "https://localhost:8080/",
     "height": 123
    },
    "colab_type": "code",
    "executionInfo": {
     "elapsed": 7499,
     "status": "ok",
     "timestamp": 1575254158008,
     "user": {
      "displayName": "Emmy Phung",
      "photoUrl": "https://lh3.googleusercontent.com/a-/AAuE7mB0XMWxbfbNKbYDfXLX0_DPwLUNj1CQ0JzU4Gcd=s64",
      "userId": "15191778731511742618"
     },
     "user_tz": 300
    },
    "id": "kdZVp8LIkI86",
    "outputId": "761c9830-ee11-481b-8f03-c57cf8c1834c"
   },
   "outputs": [],
   "source": [
    "# make empty columns\n",
    "for i in cat_ls:\n",
    "    vegas_clean[i] = 0"
   ]
  },
  {
   "cell_type": "code",
   "execution_count": 18,
   "metadata": {
    "colab": {
     "base_uri": "https://localhost:8080/",
     "height": 194
    },
    "colab_type": "code",
    "executionInfo": {
     "elapsed": 31113,
     "status": "ok",
     "timestamp": 1575254181675,
     "user": {
      "displayName": "Emmy Phung",
      "photoUrl": "https://lh3.googleusercontent.com/a-/AAuE7mB0XMWxbfbNKbYDfXLX0_DPwLUNj1CQ0JzU4Gcd=s64",
      "userId": "15191778731511742618"
     },
     "user_tz": 300
    },
    "id": "bB-lkIT9mGvw",
    "outputId": "d2c5141d-de9c-468e-e94c-9b6db5baa17b"
   },
   "outputs": [],
   "source": [
    "# sort by largest categories\n",
    "cats_df = vegas_clean[vegas_clean.columns[-387:]]\n",
    "\n",
    "for c in range(0,len(cat_ls)):\n",
    "    temp_c=str(cats_df.columns.tolist()[c])\n",
    "    \n",
    "    for i in range(len(vegas_clean['categories'])):\n",
    "        if temp_c in str(vegas_clean['categories'].iloc[i]):\n",
    "            vegas_clean[temp_c].iloc[i] = 1"
   ]
  },
  {
   "cell_type": "code",
   "execution_count": 19,
   "metadata": {
    "colab": {},
    "colab_type": "code",
    "id": "uF2MLA31vawB"
   },
   "outputs": [],
   "source": [
    "vegas_clean.describe()\n",
    "vegas_final = vegas_clean.fillna(vegas_clean.mean())"
   ]
  },
  {
   "cell_type": "code",
   "execution_count": 20,
   "metadata": {
    "colab": {
     "base_uri": "https://localhost:8080/",
     "height": 663
    },
    "colab_type": "code",
    "executionInfo": {
     "elapsed": 33087,
     "status": "ok",
     "timestamp": 1575254183686,
     "user": {
      "displayName": "Emmy Phung",
      "photoUrl": "https://lh3.googleusercontent.com/a-/AAuE7mB0XMWxbfbNKbYDfXLX0_DPwLUNj1CQ0JzU4Gcd=s64",
      "userId": "15191778731511742618"
     },
     "user_tz": 300
    },
    "id": "45qEldZnnHqC",
    "outputId": "ffccdaa4-eb5b-4a88-e4fa-844e211c8979"
   },
   "outputs": [
    {
     "data": {
      "text/html": [
       "<div>\n",
       "<style scoped>\n",
       "    .dataframe tbody tr th:only-of-type {\n",
       "        vertical-align: middle;\n",
       "    }\n",
       "\n",
       "    .dataframe tbody tr th {\n",
       "        vertical-align: top;\n",
       "    }\n",
       "\n",
       "    .dataframe thead th {\n",
       "        text-align: right;\n",
       "    }\n",
       "</style>\n",
       "<table border=\"1\" class=\"dataframe\">\n",
       "  <thead>\n",
       "    <tr style=\"text-align: right;\">\n",
       "      <th></th>\n",
       "      <th>org_index</th>\n",
       "      <th>business_id</th>\n",
       "      <th>name</th>\n",
       "      <th>neighborhood</th>\n",
       "      <th>address</th>\n",
       "      <th>city</th>\n",
       "      <th>state</th>\n",
       "      <th>postal_code</th>\n",
       "      <th>latitude</th>\n",
       "      <th>longitude</th>\n",
       "      <th>...</th>\n",
       "      <th>Wholesale Stores</th>\n",
       "      <th>Wholesalers</th>\n",
       "      <th>Windshield Installation &amp; Repair</th>\n",
       "      <th>Wine &amp; Spirits</th>\n",
       "      <th>Wine Bars</th>\n",
       "      <th>Wineries</th>\n",
       "      <th>Women's Clothing</th>\n",
       "      <th>Wraps</th>\n",
       "      <th>Yelp Events</th>\n",
       "      <th>Yoga</th>\n",
       "    </tr>\n",
       "  </thead>\n",
       "  <tbody>\n",
       "    <tr>\n",
       "      <td>8</td>\n",
       "      <td>32</td>\n",
       "      <td>kgffcoxT6BQp-gJ-UQ7Czw</td>\n",
       "      <td>Subway</td>\n",
       "      <td>Summerlin</td>\n",
       "      <td>2255 N Rampart Blvd</td>\n",
       "      <td>Las Vegas</td>\n",
       "      <td>NV</td>\n",
       "      <td>89128</td>\n",
       "      <td>36.201794</td>\n",
       "      <td>-115.281981</td>\n",
       "      <td>...</td>\n",
       "      <td>0</td>\n",
       "      <td>0</td>\n",
       "      <td>0</td>\n",
       "      <td>0</td>\n",
       "      <td>0</td>\n",
       "      <td>0</td>\n",
       "      <td>0</td>\n",
       "      <td>0</td>\n",
       "      <td>0</td>\n",
       "      <td>0</td>\n",
       "    </tr>\n",
       "    <tr>\n",
       "      <td>9</td>\n",
       "      <td>33</td>\n",
       "      <td>0jtRI7hVMpQHpUVtUy4ITw</td>\n",
       "      <td>Omelet House Summerlin</td>\n",
       "      <td>Summerlin</td>\n",
       "      <td>2227 N Rampart Blvd</td>\n",
       "      <td>Las Vegas</td>\n",
       "      <td>NV</td>\n",
       "      <td>89128</td>\n",
       "      <td>36.201990</td>\n",
       "      <td>-115.283122</td>\n",
       "      <td>...</td>\n",
       "      <td>0</td>\n",
       "      <td>0</td>\n",
       "      <td>0</td>\n",
       "      <td>1</td>\n",
       "      <td>0</td>\n",
       "      <td>0</td>\n",
       "      <td>0</td>\n",
       "      <td>0</td>\n",
       "      <td>0</td>\n",
       "      <td>0</td>\n",
       "    </tr>\n",
       "    <tr>\n",
       "      <td>32</td>\n",
       "      <td>141</td>\n",
       "      <td>zhxnD7J5_sCrKSw5cwI9dQ</td>\n",
       "      <td>Popeyes Louisiana Kitchen</td>\n",
       "      <td>Sunrise</td>\n",
       "      <td>4505 E Bonanza Rd</td>\n",
       "      <td>Las Vegas</td>\n",
       "      <td>NV</td>\n",
       "      <td>89110</td>\n",
       "      <td>36.173140</td>\n",
       "      <td>-115.077945</td>\n",
       "      <td>...</td>\n",
       "      <td>0</td>\n",
       "      <td>0</td>\n",
       "      <td>0</td>\n",
       "      <td>0</td>\n",
       "      <td>0</td>\n",
       "      <td>0</td>\n",
       "      <td>0</td>\n",
       "      <td>0</td>\n",
       "      <td>0</td>\n",
       "      <td>0</td>\n",
       "    </tr>\n",
       "    <tr>\n",
       "      <td>34</td>\n",
       "      <td>143</td>\n",
       "      <td>2kWrSFkIes_d2BMg4YrRtA</td>\n",
       "      <td>Pizza Hut</td>\n",
       "      <td>Sunrise</td>\n",
       "      <td>560 N. Nellis Blvd, Ste E1</td>\n",
       "      <td>Las Vegas</td>\n",
       "      <td>NV</td>\n",
       "      <td>89110</td>\n",
       "      <td>36.169353</td>\n",
       "      <td>-115.061694</td>\n",
       "      <td>...</td>\n",
       "      <td>0</td>\n",
       "      <td>0</td>\n",
       "      <td>0</td>\n",
       "      <td>0</td>\n",
       "      <td>0</td>\n",
       "      <td>0</td>\n",
       "      <td>0</td>\n",
       "      <td>0</td>\n",
       "      <td>0</td>\n",
       "      <td>0</td>\n",
       "    </tr>\n",
       "    <tr>\n",
       "      <td>35</td>\n",
       "      <td>145</td>\n",
       "      <td>6llKs7K_tn8ChXcIM-oTvg</td>\n",
       "      <td>Sansei Japan</td>\n",
       "      <td>Eastside</td>\n",
       "      <td>3480 S Maryland Pkwy</td>\n",
       "      <td>Las Vegas</td>\n",
       "      <td>NV</td>\n",
       "      <td>89169</td>\n",
       "      <td>36.125934</td>\n",
       "      <td>-115.135253</td>\n",
       "      <td>...</td>\n",
       "      <td>0</td>\n",
       "      <td>0</td>\n",
       "      <td>0</td>\n",
       "      <td>0</td>\n",
       "      <td>0</td>\n",
       "      <td>0</td>\n",
       "      <td>0</td>\n",
       "      <td>0</td>\n",
       "      <td>0</td>\n",
       "      <td>0</td>\n",
       "    </tr>\n",
       "  </tbody>\n",
       "</table>\n",
       "<p>5 rows × 452 columns</p>\n",
       "</div>"
      ],
      "text/plain": [
       "    org_index             business_id                       name neighborhood  \\\n",
       "8          32  kgffcoxT6BQp-gJ-UQ7Czw                     Subway    Summerlin   \n",
       "9          33  0jtRI7hVMpQHpUVtUy4ITw     Omelet House Summerlin    Summerlin   \n",
       "32        141  zhxnD7J5_sCrKSw5cwI9dQ  Popeyes Louisiana Kitchen      Sunrise   \n",
       "34        143  2kWrSFkIes_d2BMg4YrRtA                  Pizza Hut      Sunrise   \n",
       "35        145  6llKs7K_tn8ChXcIM-oTvg               Sansei Japan     Eastside   \n",
       "\n",
       "                       address       city state postal_code   latitude  \\\n",
       "8          2255 N Rampart Blvd  Las Vegas    NV       89128  36.201794   \n",
       "9          2227 N Rampart Blvd  Las Vegas    NV       89128  36.201990   \n",
       "32           4505 E Bonanza Rd  Las Vegas    NV       89110  36.173140   \n",
       "34  560 N. Nellis Blvd, Ste E1  Las Vegas    NV       89110  36.169353   \n",
       "35        3480 S Maryland Pkwy  Las Vegas    NV       89169  36.125934   \n",
       "\n",
       "     longitude  ...  Wholesale Stores  Wholesalers  \\\n",
       "8  -115.281981  ...                 0            0   \n",
       "9  -115.283122  ...                 0            0   \n",
       "32 -115.077945  ...                 0            0   \n",
       "34 -115.061694  ...                 0            0   \n",
       "35 -115.135253  ...                 0            0   \n",
       "\n",
       "    Windshield Installation & Repair Wine & Spirits Wine Bars  Wineries  \\\n",
       "8                                  0              0         0         0   \n",
       "9                                  0              1         0         0   \n",
       "32                                 0              0         0         0   \n",
       "34                                 0              0         0         0   \n",
       "35                                 0              0         0         0   \n",
       "\n",
       "    Women's Clothing  Wraps  Yelp Events  Yoga  \n",
       "8                  0      0            0     0  \n",
       "9                  0      0            0     0  \n",
       "32                 0      0            0     0  \n",
       "34                 0      0            0     0  \n",
       "35                 0      0            0     0  \n",
       "\n",
       "[5 rows x 452 columns]"
      ]
     },
     "execution_count": 20,
     "metadata": {},
     "output_type": "execute_result"
    }
   ],
   "source": [
    "vegas_final= vegas_final.rename(columns ={'Unnamed: 0': 'org_index'})\n",
    "# vegas_final.replace(0.5, 0, inplace=True)\n",
    "vegas_final.head()"
   ]
  },
  {
   "cell_type": "code",
   "execution_count": 21,
   "metadata": {
    "colab": {},
    "colab_type": "code",
    "id": "sc0oiGh1kNtT"
   },
   "outputs": [],
   "source": [
    "# Thank you to Professor Brian Dalessandro for this function which was produced in HW2 for this class.\n",
    "\n",
    "def getDfSummary(input_data):\n",
    "    output_data=input_data.describe() \n",
    "    output_data.loc['number_distinct'] = input_data.nunique() \n",
    "    output_data.loc['number_nan'] = input_data.isna().sum()\n",
    "    output_data=output_data.drop('count', axis=0)\n",
    "    output_data=output_data.T\n",
    "    return output_data"
   ]
  },
  {
   "cell_type": "code",
   "execution_count": 22,
   "metadata": {
    "colab": {
     "base_uri": "https://localhost:8080/",
     "height": 406
    },
    "colab_type": "code",
    "executionInfo": {
     "elapsed": 34223,
     "status": "ok",
     "timestamp": 1575254184850,
     "user": {
      "displayName": "Emmy Phung",
      "photoUrl": "https://lh3.googleusercontent.com/a-/AAuE7mB0XMWxbfbNKbYDfXLX0_DPwLUNj1CQ0JzU4Gcd=s64",
      "userId": "15191778731511742618"
     },
     "user_tz": 300
    },
    "id": "igP31gvdx6Ot",
    "outputId": "e84781dd-3044-456d-eb39-e377e66e58b3"
   },
   "outputs": [
    {
     "data": {
      "text/html": [
       "<div>\n",
       "<style scoped>\n",
       "    .dataframe tbody tr th:only-of-type {\n",
       "        vertical-align: middle;\n",
       "    }\n",
       "\n",
       "    .dataframe tbody tr th {\n",
       "        vertical-align: top;\n",
       "    }\n",
       "\n",
       "    .dataframe thead th {\n",
       "        text-align: right;\n",
       "    }\n",
       "</style>\n",
       "<table border=\"1\" class=\"dataframe\">\n",
       "  <thead>\n",
       "    <tr style=\"text-align: right;\">\n",
       "      <th></th>\n",
       "      <th>mean</th>\n",
       "      <th>std</th>\n",
       "      <th>min</th>\n",
       "      <th>25%</th>\n",
       "      <th>50%</th>\n",
       "      <th>75%</th>\n",
       "      <th>max</th>\n",
       "      <th>number_distinct</th>\n",
       "      <th>number_nan</th>\n",
       "    </tr>\n",
       "  </thead>\n",
       "  <tbody>\n",
       "    <tr>\n",
       "      <td>org_index</td>\n",
       "      <td>98475.620005</td>\n",
       "      <td>54644.866855</td>\n",
       "      <td>32.000000</td>\n",
       "      <td>50662.500000</td>\n",
       "      <td>101743.000000</td>\n",
       "      <td>144801.000000</td>\n",
       "      <td>188567.000000</td>\n",
       "      <td>3779.0</td>\n",
       "      <td>0.0</td>\n",
       "    </tr>\n",
       "    <tr>\n",
       "      <td>latitude</td>\n",
       "      <td>36.130546</td>\n",
       "      <td>0.060171</td>\n",
       "      <td>35.606730</td>\n",
       "      <td>36.100372</td>\n",
       "      <td>36.124829</td>\n",
       "      <td>36.159747</td>\n",
       "      <td>36.430308</td>\n",
       "      <td>3481.0</td>\n",
       "      <td>0.0</td>\n",
       "    </tr>\n",
       "    <tr>\n",
       "      <td>longitude</td>\n",
       "      <td>-115.190975</td>\n",
       "      <td>0.070006</td>\n",
       "      <td>-115.679632</td>\n",
       "      <td>-115.243148</td>\n",
       "      <td>-115.175835</td>\n",
       "      <td>-115.144217</td>\n",
       "      <td>-114.896337</td>\n",
       "      <td>3442.0</td>\n",
       "      <td>0.0</td>\n",
       "    </tr>\n",
       "    <tr>\n",
       "      <td>stars</td>\n",
       "      <td>3.434110</td>\n",
       "      <td>0.813643</td>\n",
       "      <td>1.000000</td>\n",
       "      <td>3.000000</td>\n",
       "      <td>3.500000</td>\n",
       "      <td>4.000000</td>\n",
       "      <td>5.000000</td>\n",
       "      <td>9.0</td>\n",
       "      <td>0.0</td>\n",
       "    </tr>\n",
       "    <tr>\n",
       "      <td>review_count</td>\n",
       "      <td>231.700450</td>\n",
       "      <td>451.108130</td>\n",
       "      <td>3.000000</td>\n",
       "      <td>26.000000</td>\n",
       "      <td>83.000000</td>\n",
       "      <td>260.000000</td>\n",
       "      <td>7968.000000</td>\n",
       "      <td>829.0</td>\n",
       "      <td>0.0</td>\n",
       "    </tr>\n",
       "    <tr>\n",
       "      <td>...</td>\n",
       "      <td>...</td>\n",
       "      <td>...</td>\n",
       "      <td>...</td>\n",
       "      <td>...</td>\n",
       "      <td>...</td>\n",
       "      <td>...</td>\n",
       "      <td>...</td>\n",
       "      <td>...</td>\n",
       "      <td>...</td>\n",
       "    </tr>\n",
       "    <tr>\n",
       "      <td>Wineries</td>\n",
       "      <td>0.000265</td>\n",
       "      <td>0.016267</td>\n",
       "      <td>0.000000</td>\n",
       "      <td>0.000000</td>\n",
       "      <td>0.000000</td>\n",
       "      <td>0.000000</td>\n",
       "      <td>1.000000</td>\n",
       "      <td>2.0</td>\n",
       "      <td>0.0</td>\n",
       "    </tr>\n",
       "    <tr>\n",
       "      <td>Women's Clothing</td>\n",
       "      <td>0.000529</td>\n",
       "      <td>0.023002</td>\n",
       "      <td>0.000000</td>\n",
       "      <td>0.000000</td>\n",
       "      <td>0.000000</td>\n",
       "      <td>0.000000</td>\n",
       "      <td>1.000000</td>\n",
       "      <td>2.0</td>\n",
       "      <td>0.0</td>\n",
       "    </tr>\n",
       "    <tr>\n",
       "      <td>Wraps</td>\n",
       "      <td>0.005028</td>\n",
       "      <td>0.070738</td>\n",
       "      <td>0.000000</td>\n",
       "      <td>0.000000</td>\n",
       "      <td>0.000000</td>\n",
       "      <td>0.000000</td>\n",
       "      <td>1.000000</td>\n",
       "      <td>2.0</td>\n",
       "      <td>0.0</td>\n",
       "    </tr>\n",
       "    <tr>\n",
       "      <td>Yelp Events</td>\n",
       "      <td>0.000265</td>\n",
       "      <td>0.016267</td>\n",
       "      <td>0.000000</td>\n",
       "      <td>0.000000</td>\n",
       "      <td>0.000000</td>\n",
       "      <td>0.000000</td>\n",
       "      <td>1.000000</td>\n",
       "      <td>2.0</td>\n",
       "      <td>0.0</td>\n",
       "    </tr>\n",
       "    <tr>\n",
       "      <td>Yoga</td>\n",
       "      <td>0.000265</td>\n",
       "      <td>0.016267</td>\n",
       "      <td>0.000000</td>\n",
       "      <td>0.000000</td>\n",
       "      <td>0.000000</td>\n",
       "      <td>0.000000</td>\n",
       "      <td>1.000000</td>\n",
       "      <td>2.0</td>\n",
       "      <td>0.0</td>\n",
       "    </tr>\n",
       "  </tbody>\n",
       "</table>\n",
       "<p>443 rows × 9 columns</p>\n",
       "</div>"
      ],
      "text/plain": [
       "                          mean           std         min           25%  \\\n",
       "org_index         98475.620005  54644.866855   32.000000  50662.500000   \n",
       "latitude             36.130546      0.060171   35.606730     36.100372   \n",
       "longitude          -115.190975      0.070006 -115.679632   -115.243148   \n",
       "stars                 3.434110      0.813643    1.000000      3.000000   \n",
       "review_count        231.700450    451.108130    3.000000     26.000000   \n",
       "...                        ...           ...         ...           ...   \n",
       "Wineries              0.000265      0.016267    0.000000      0.000000   \n",
       "Women's Clothing      0.000529      0.023002    0.000000      0.000000   \n",
       "Wraps                 0.005028      0.070738    0.000000      0.000000   \n",
       "Yelp Events           0.000265      0.016267    0.000000      0.000000   \n",
       "Yoga                  0.000265      0.016267    0.000000      0.000000   \n",
       "\n",
       "                            50%            75%            max  \\\n",
       "org_index         101743.000000  144801.000000  188567.000000   \n",
       "latitude              36.124829      36.159747      36.430308   \n",
       "longitude           -115.175835    -115.144217    -114.896337   \n",
       "stars                  3.500000       4.000000       5.000000   \n",
       "review_count          83.000000     260.000000    7968.000000   \n",
       "...                         ...            ...            ...   \n",
       "Wineries               0.000000       0.000000       1.000000   \n",
       "Women's Clothing       0.000000       0.000000       1.000000   \n",
       "Wraps                  0.000000       0.000000       1.000000   \n",
       "Yelp Events            0.000000       0.000000       1.000000   \n",
       "Yoga                   0.000000       0.000000       1.000000   \n",
       "\n",
       "                  number_distinct  number_nan  \n",
       "org_index                  3779.0         0.0  \n",
       "latitude                   3481.0         0.0  \n",
       "longitude                  3442.0         0.0  \n",
       "stars                         9.0         0.0  \n",
       "review_count                829.0         0.0  \n",
       "...                           ...         ...  \n",
       "Wineries                      2.0         0.0  \n",
       "Women's Clothing              2.0         0.0  \n",
       "Wraps                         2.0         0.0  \n",
       "Yelp Events                   2.0         0.0  \n",
       "Yoga                          2.0         0.0  \n",
       "\n",
       "[443 rows x 9 columns]"
      ]
     },
     "execution_count": 22,
     "metadata": {},
     "output_type": "execute_result"
    }
   ],
   "source": [
    "getDfSummary(vegas_final)"
   ]
  },
  {
   "cell_type": "markdown",
   "metadata": {},
   "source": [
    "Selecting business rules to define \"success\" in our context:"
   ]
  },
  {
   "cell_type": "code",
   "execution_count": 23,
   "metadata": {
    "colab": {
     "base_uri": "https://localhost:8080/",
     "height": 282
    },
    "colab_type": "code",
    "executionInfo": {
     "elapsed": 34363,
     "status": "ok",
     "timestamp": 1575254185001,
     "user": {
      "displayName": "Emmy Phung",
      "photoUrl": "https://lh3.googleusercontent.com/a-/AAuE7mB0XMWxbfbNKbYDfXLX0_DPwLUNj1CQ0JzU4Gcd=s64",
      "userId": "15191778731511742618"
     },
     "user_tz": 300
    },
    "id": "IUVak_UGjUM6",
    "outputId": "d99d2340-0ec8-4024-a020-a0f3a93dc16f"
   },
   "outputs": [
    {
     "data": {
      "text/plain": [
       "<matplotlib.axes._subplots.AxesSubplot at 0x10f40ed68>"
      ]
     },
     "execution_count": 23,
     "metadata": {},
     "output_type": "execute_result"
    },
    {
     "data": {
      "image/png": "[encoded data removed]",
      "text/plain": [
       "<Figure size 432x288 with 1 Axes>"
      ]
     },
     "metadata": {
      "needs_background": "light"
     },
     "output_type": "display_data"
    }
   ],
   "source": [
    "vegas_final['review_count'].hist()"
   ]
  },
  {
   "cell_type": "code",
   "execution_count": 24,
   "metadata": {
    "colab": {
     "base_uri": "https://localhost:8080/",
     "height": 176
    },
    "colab_type": "code",
    "executionInfo": {
     "elapsed": 34358,
     "status": "ok",
     "timestamp": 1575254185002,
     "user": {
      "displayName": "Emmy Phung",
      "photoUrl": "https://lh3.googleusercontent.com/a-/AAuE7mB0XMWxbfbNKbYDfXLX0_DPwLUNj1CQ0JzU4Gcd=s64",
      "userId": "15191778731511742618"
     },
     "user_tz": 300
    },
    "id": "r0f9RJogjj4x",
    "outputId": "1ea9bc1f-9b41-4061-e540-c7c3a2240447"
   },
   "outputs": [
    {
     "data": {
      "text/plain": [
       "count    3779.00000\n",
       "mean      231.70045\n",
       "std       451.10813\n",
       "min         3.00000\n",
       "25%        26.00000\n",
       "50%        83.00000\n",
       "75%       260.00000\n",
       "max      7968.00000\n",
       "Name: review_count, dtype: float64"
      ]
     },
     "execution_count": 24,
     "metadata": {},
     "output_type": "execute_result"
    }
   ],
   "source": [
    "vegas_final['review_count'].describe()"
   ]
  },
  {
   "cell_type": "code",
   "execution_count": 25,
   "metadata": {
    "colab": {
     "base_uri": "https://localhost:8080/",
     "height": 282
    },
    "colab_type": "code",
    "executionInfo": {
     "elapsed": 35416,
     "status": "ok",
     "timestamp": 1575254186069,
     "user": {
      "displayName": "Emmy Phung",
      "photoUrl": "https://lh3.googleusercontent.com/a-/AAuE7mB0XMWxbfbNKbYDfXLX0_DPwLUNj1CQ0JzU4Gcd=s64",
      "userId": "15191778731511742618"
     },
     "user_tz": 300
    },
    "id": "C-1HaRIBeExc",
    "outputId": "09c33a0e-bcfd-4aed-cf99-b794bba64542"
   },
   "outputs": [
    {
     "data": {
      "text/plain": [
       "(0, 500)"
      ]
     },
     "execution_count": 25,
     "metadata": {},
     "output_type": "execute_result"
    },
    {
     "data": {
      "image/png": "[encoded data removed]",
      "text/plain": [
       "<Figure size 432x288 with 1 Axes>"
      ]
     },
     "metadata": {
      "needs_background": "light"
     },
     "output_type": "display_data"
    }
   ],
   "source": [
    "vegas_final['review_count'].hist(bins=400)\n",
    "plt.xlim(0,500)"
   ]
  },
  {
   "cell_type": "code",
   "execution_count": 26,
   "metadata": {
    "colab": {
     "base_uri": "https://localhost:8080/",
     "height": 176
    },
    "colab_type": "code",
    "executionInfo": {
     "elapsed": 35410,
     "status": "ok",
     "timestamp": 1575254186070,
     "user": {
      "displayName": "Emmy Phung",
      "photoUrl": "https://lh3.googleusercontent.com/a-/AAuE7mB0XMWxbfbNKbYDfXLX0_DPwLUNj1CQ0JzU4Gcd=s64",
      "userId": "15191778731511742618"
     },
     "user_tz": 300
    },
    "id": "-GnnU76zj_6B",
    "outputId": "93a3ccdd-670d-4137-d64a-9700624a817c"
   },
   "outputs": [
    {
     "data": {
      "text/plain": [
       "count    3779.000000\n",
       "mean        3.434110\n",
       "std         0.813643\n",
       "min         1.000000\n",
       "25%         3.000000\n",
       "50%         3.500000\n",
       "75%         4.000000\n",
       "max         5.000000\n",
       "Name: stars, dtype: float64"
      ]
     },
     "execution_count": 26,
     "metadata": {},
     "output_type": "execute_result"
    }
   ],
   "source": [
    "vegas_final['stars'].describe()"
   ]
  },
  {
   "cell_type": "code",
   "execution_count": 27,
   "metadata": {
    "colab": {
     "base_uri": "https://localhost:8080/",
     "height": 230
    },
    "colab_type": "code",
    "executionInfo": {
     "elapsed": 35373,
     "status": "ok",
     "timestamp": 1575254186070,
     "user": {
      "displayName": "Emmy Phung",
      "photoUrl": "https://lh3.googleusercontent.com/a-/AAuE7mB0XMWxbfbNKbYDfXLX0_DPwLUNj1CQ0JzU4Gcd=s64",
      "userId": "15191778731511742618"
     },
     "user_tz": 300
    },
    "id": "K4XQ-vYim9we",
    "outputId": "456bfdd6-6f20-4df5-d55e-98937435e865"
   },
   "outputs": [
    {
     "data": {
      "text/plain": [
       "617        4\n",
       "726       19\n",
       "1125       9\n",
       "1316      15\n",
       "1680     249\n",
       "        ... \n",
       "34187    162\n",
       "34390      7\n",
       "34393     15\n",
       "34784     42\n",
       "35005     32\n",
       "Name: review_count, Length: 83, dtype: int64"
      ]
     },
     "execution_count": 27,
     "metadata": {},
     "output_type": "execute_result"
    }
   ],
   "source": [
    "vegas_final[vegas_final['stars'] ==5]['review_count']"
   ]
  },
  {
   "cell_type": "code",
   "execution_count": 28,
   "metadata": {
    "colab": {
     "base_uri": "https://localhost:8080/",
     "height": 312
    },
    "colab_type": "code",
    "executionInfo": {
     "elapsed": 35360,
     "status": "ok",
     "timestamp": 1575254186071,
     "user": {
      "displayName": "Emmy Phung",
      "photoUrl": "https://lh3.googleusercontent.com/a-/AAuE7mB0XMWxbfbNKbYDfXLX0_DPwLUNj1CQ0JzU4Gcd=s64",
      "userId": "15191778731511742618"
     },
     "user_tz": 300
    },
    "id": "xZNHKPVMgmNS",
    "outputId": "29c59d89-8725-463e-df27-15ba9fe40a31"
   },
   "outputs": [
    {
     "data": {
      "text/plain": [
       "Text(0, 0.5, 'Number of restaurants')"
      ]
     },
     "execution_count": 28,
     "metadata": {},
     "output_type": "execute_result"
    },
    {
     "data": {
      "image/png": "[encoded data removed]",
      "text/plain": [
       "<Figure size 432x288 with 1 Axes>"
      ]
     },
     "metadata": {
      "needs_background": "light"
     },
     "output_type": "display_data"
    }
   ],
   "source": [
    "vegas_final['stars'].hist(bins=10)\n",
    "plt.title('Distribution of star ratings and review counts for Vegas\\'s restaurants on Yelp')\n",
    "plt.xlabel('Average rating')\n",
    "plt.ylabel('Number of restaurants')"
   ]
  },
  {
   "cell_type": "code",
   "execution_count": 29,
   "metadata": {
    "colab": {
     "base_uri": "https://localhost:8080/",
     "height": 406
    },
    "colab_type": "code",
    "executionInfo": {
     "elapsed": 35481,
     "status": "ok",
     "timestamp": 1575254186200,
     "user": {
      "displayName": "Emmy Phung",
      "photoUrl": "https://lh3.googleusercontent.com/a-/AAuE7mB0XMWxbfbNKbYDfXLX0_DPwLUNj1CQ0JzU4Gcd=s64",
      "userId": "15191778731511742618"
     },
     "user_tz": 300
    },
    "id": "qnUJB3WTmjCN",
    "outputId": "32e3d7de-dca0-4637-e5f3-aa16f839927a"
   },
   "outputs": [
    {
     "data": {
      "text/plain": [
       "{'whiskers': [<matplotlib.lines.Line2D at 0x125948a58>,\n",
       "  <matplotlib.lines.Line2D at 0x125948da0>],\n",
       " 'caps': [<matplotlib.lines.Line2D at 0x125948e80>,\n",
       "  <matplotlib.lines.Line2D at 0x125956470>],\n",
       " 'boxes': [<matplotlib.lines.Line2D at 0x125948668>],\n",
       " 'medians': [<matplotlib.lines.Line2D at 0x1259567b8>],\n",
       " 'fliers': [<matplotlib.lines.Line2D at 0x125956b00>],\n",
       " 'means': []}"
      ]
     },
     "execution_count": 29,
     "metadata": {},
     "output_type": "execute_result"
    },
    {
     "data": {
      "image/png": "[encoded data removed]",
      "text/plain": [
       "<Figure size 432x288 with 1 Axes>"
      ]
     },
     "metadata": {
      "needs_background": "light"
     },
     "output_type": "display_data"
    }
   ],
   "source": [
    "plt.boxplot(vegas_final['stars'])"
   ]
  },
  {
   "cell_type": "markdown",
   "metadata": {},
   "source": [
    "Create our target variable, named 'Sucess', Y = 1 if success, and = 0 otherwise"
   ]
  },
  {
   "cell_type": "code",
   "execution_count": 30,
   "metadata": {
    "colab": {
     "base_uri": "https://localhost:8080/",
     "height": 105
    },
    "colab_type": "code",
    "executionInfo": {
     "elapsed": 35472,
     "status": "ok",
     "timestamp": 1575254186200,
     "user": {
      "displayName": "Emmy Phung",
      "photoUrl": "https://lh3.googleusercontent.com/a-/AAuE7mB0XMWxbfbNKbYDfXLX0_DPwLUNj1CQ0JzU4Gcd=s64",
      "userId": "15191778731511742618"
     },
     "user_tz": 300
    },
    "id": "N7dVX0sjo3KC",
    "outputId": "e689c9a2-bd81-4db2-b62b-bf0178fde1d1"
   },
   "outputs": [],
   "source": [
    "vegas_final['success'] = 0\n",
    "success_list = vegas_final[(vegas_final['review_count']>100) & (vegas_final['stars']>4)].index.tolist()\n",
    "vegas_final['success'][success_list] = 1"
   ]
  },
  {
   "cell_type": "code",
   "execution_count": 31,
   "metadata": {
    "colab": {
     "base_uri": "https://localhost:8080/",
     "height": 663
    },
    "colab_type": "code",
    "executionInfo": {
     "elapsed": 36664,
     "status": "ok",
     "timestamp": 1575254187406,
     "user": {
      "displayName": "Emmy Phung",
      "photoUrl": "https://lh3.googleusercontent.com/a-/AAuE7mB0XMWxbfbNKbYDfXLX0_DPwLUNj1CQ0JzU4Gcd=s64",
      "userId": "15191778731511742618"
     },
     "user_tz": 300
    },
    "id": "ItK3_oD4om8U",
    "outputId": "059c25bd-a160-45d6-bda1-4c68129a03fe"
   },
   "outputs": [
    {
     "data": {
      "text/html": [
       "<div>\n",
       "<style scoped>\n",
       "    .dataframe tbody tr th:only-of-type {\n",
       "        vertical-align: middle;\n",
       "    }\n",
       "\n",
       "    .dataframe tbody tr th {\n",
       "        vertical-align: top;\n",
       "    }\n",
       "\n",
       "    .dataframe thead th {\n",
       "        text-align: right;\n",
       "    }\n",
       "</style>\n",
       "<table border=\"1\" class=\"dataframe\">\n",
       "  <thead>\n",
       "    <tr style=\"text-align: right;\">\n",
       "      <th></th>\n",
       "      <th>org_index</th>\n",
       "      <th>business_id</th>\n",
       "      <th>name</th>\n",
       "      <th>neighborhood</th>\n",
       "      <th>address</th>\n",
       "      <th>city</th>\n",
       "      <th>state</th>\n",
       "      <th>postal_code</th>\n",
       "      <th>latitude</th>\n",
       "      <th>longitude</th>\n",
       "      <th>...</th>\n",
       "      <th>Wholesalers</th>\n",
       "      <th>Windshield Installation &amp; Repair</th>\n",
       "      <th>Wine &amp; Spirits</th>\n",
       "      <th>Wine Bars</th>\n",
       "      <th>Wineries</th>\n",
       "      <th>Women's Clothing</th>\n",
       "      <th>Wraps</th>\n",
       "      <th>Yelp Events</th>\n",
       "      <th>Yoga</th>\n",
       "      <th>success</th>\n",
       "    </tr>\n",
       "  </thead>\n",
       "  <tbody>\n",
       "    <tr>\n",
       "      <td>8</td>\n",
       "      <td>32</td>\n",
       "      <td>kgffcoxT6BQp-gJ-UQ7Czw</td>\n",
       "      <td>Subway</td>\n",
       "      <td>Summerlin</td>\n",
       "      <td>2255 N Rampart Blvd</td>\n",
       "      <td>Las Vegas</td>\n",
       "      <td>NV</td>\n",
       "      <td>89128</td>\n",
       "      <td>36.201794</td>\n",
       "      <td>-115.281981</td>\n",
       "      <td>...</td>\n",
       "      <td>0</td>\n",
       "      <td>0</td>\n",
       "      <td>0</td>\n",
       "      <td>0</td>\n",
       "      <td>0</td>\n",
       "      <td>0</td>\n",
       "      <td>0</td>\n",
       "      <td>0</td>\n",
       "      <td>0</td>\n",
       "      <td>0</td>\n",
       "    </tr>\n",
       "    <tr>\n",
       "      <td>9</td>\n",
       "      <td>33</td>\n",
       "      <td>0jtRI7hVMpQHpUVtUy4ITw</td>\n",
       "      <td>Omelet House Summerlin</td>\n",
       "      <td>Summerlin</td>\n",
       "      <td>2227 N Rampart Blvd</td>\n",
       "      <td>Las Vegas</td>\n",
       "      <td>NV</td>\n",
       "      <td>89128</td>\n",
       "      <td>36.201990</td>\n",
       "      <td>-115.283122</td>\n",
       "      <td>...</td>\n",
       "      <td>0</td>\n",
       "      <td>0</td>\n",
       "      <td>1</td>\n",
       "      <td>0</td>\n",
       "      <td>0</td>\n",
       "      <td>0</td>\n",
       "      <td>0</td>\n",
       "      <td>0</td>\n",
       "      <td>0</td>\n",
       "      <td>0</td>\n",
       "    </tr>\n",
       "    <tr>\n",
       "      <td>32</td>\n",
       "      <td>141</td>\n",
       "      <td>zhxnD7J5_sCrKSw5cwI9dQ</td>\n",
       "      <td>Popeyes Louisiana Kitchen</td>\n",
       "      <td>Sunrise</td>\n",
       "      <td>4505 E Bonanza Rd</td>\n",
       "      <td>Las Vegas</td>\n",
       "      <td>NV</td>\n",
       "      <td>89110</td>\n",
       "      <td>36.173140</td>\n",
       "      <td>-115.077945</td>\n",
       "      <td>...</td>\n",
       "      <td>0</td>\n",
       "      <td>0</td>\n",
       "      <td>0</td>\n",
       "      <td>0</td>\n",
       "      <td>0</td>\n",
       "      <td>0</td>\n",
       "      <td>0</td>\n",
       "      <td>0</td>\n",
       "      <td>0</td>\n",
       "      <td>0</td>\n",
       "    </tr>\n",
       "    <tr>\n",
       "      <td>34</td>\n",
       "      <td>143</td>\n",
       "      <td>2kWrSFkIes_d2BMg4YrRtA</td>\n",
       "      <td>Pizza Hut</td>\n",
       "      <td>Sunrise</td>\n",
       "      <td>560 N. Nellis Blvd, Ste E1</td>\n",
       "      <td>Las Vegas</td>\n",
       "      <td>NV</td>\n",
       "      <td>89110</td>\n",
       "      <td>36.169353</td>\n",
       "      <td>-115.061694</td>\n",
       "      <td>...</td>\n",
       "      <td>0</td>\n",
       "      <td>0</td>\n",
       "      <td>0</td>\n",
       "      <td>0</td>\n",
       "      <td>0</td>\n",
       "      <td>0</td>\n",
       "      <td>0</td>\n",
       "      <td>0</td>\n",
       "      <td>0</td>\n",
       "      <td>0</td>\n",
       "    </tr>\n",
       "    <tr>\n",
       "      <td>35</td>\n",
       "      <td>145</td>\n",
       "      <td>6llKs7K_tn8ChXcIM-oTvg</td>\n",
       "      <td>Sansei Japan</td>\n",
       "      <td>Eastside</td>\n",
       "      <td>3480 S Maryland Pkwy</td>\n",
       "      <td>Las Vegas</td>\n",
       "      <td>NV</td>\n",
       "      <td>89169</td>\n",
       "      <td>36.125934</td>\n",
       "      <td>-115.135253</td>\n",
       "      <td>...</td>\n",
       "      <td>0</td>\n",
       "      <td>0</td>\n",
       "      <td>0</td>\n",
       "      <td>0</td>\n",
       "      <td>0</td>\n",
       "      <td>0</td>\n",
       "      <td>0</td>\n",
       "      <td>0</td>\n",
       "      <td>0</td>\n",
       "      <td>0</td>\n",
       "    </tr>\n",
       "  </tbody>\n",
       "</table>\n",
       "<p>5 rows × 453 columns</p>\n",
       "</div>"
      ],
      "text/plain": [
       "    org_index             business_id                       name neighborhood  \\\n",
       "8          32  kgffcoxT6BQp-gJ-UQ7Czw                     Subway    Summerlin   \n",
       "9          33  0jtRI7hVMpQHpUVtUy4ITw     Omelet House Summerlin    Summerlin   \n",
       "32        141  zhxnD7J5_sCrKSw5cwI9dQ  Popeyes Louisiana Kitchen      Sunrise   \n",
       "34        143  2kWrSFkIes_d2BMg4YrRtA                  Pizza Hut      Sunrise   \n",
       "35        145  6llKs7K_tn8ChXcIM-oTvg               Sansei Japan     Eastside   \n",
       "\n",
       "                       address       city state postal_code   latitude  \\\n",
       "8          2255 N Rampart Blvd  Las Vegas    NV       89128  36.201794   \n",
       "9          2227 N Rampart Blvd  Las Vegas    NV       89128  36.201990   \n",
       "32           4505 E Bonanza Rd  Las Vegas    NV       89110  36.173140   \n",
       "34  560 N. Nellis Blvd, Ste E1  Las Vegas    NV       89110  36.169353   \n",
       "35        3480 S Maryland Pkwy  Las Vegas    NV       89169  36.125934   \n",
       "\n",
       "     longitude  ...  Wholesalers  Windshield Installation & Repair  \\\n",
       "8  -115.281981  ...            0                                 0   \n",
       "9  -115.283122  ...            0                                 0   \n",
       "32 -115.077945  ...            0                                 0   \n",
       "34 -115.061694  ...            0                                 0   \n",
       "35 -115.135253  ...            0                                 0   \n",
       "\n",
       "    Wine & Spirits Wine Bars Wineries  Women's Clothing  Wraps  Yelp Events  \\\n",
       "8                0         0        0                 0      0            0   \n",
       "9                1         0        0                 0      0            0   \n",
       "32               0         0        0                 0      0            0   \n",
       "34               0         0        0                 0      0            0   \n",
       "35               0         0        0                 0      0            0   \n",
       "\n",
       "    Yoga  success  \n",
       "8      0        0  \n",
       "9      0        0  \n",
       "32     0        0  \n",
       "34     0        0  \n",
       "35     0        0  \n",
       "\n",
       "[5 rows x 453 columns]"
      ]
     },
     "execution_count": 31,
     "metadata": {},
     "output_type": "execute_result"
    }
   ],
   "source": [
    "vegas_final.describe()\n",
    "vegas_final.head(5)"
   ]
  },
  {
   "cell_type": "code",
   "execution_count": 32,
   "metadata": {
    "colab": {},
    "colab_type": "code",
    "id": "-8QCft2wyIco"
   },
   "outputs": [],
   "source": [
    "#Export clean data to csv\n",
    "vegas_final.to_csv('/Users/lisacombs/Documents/FALL2019/INTRO_DS/Project/clean_data/vegas.csv')"
   ]
  },
  {
   "cell_type": "code",
   "execution_count": 33,
   "metadata": {
    "colab": {
     "base_uri": "https://localhost:8080/",
     "height": 34
    },
    "colab_type": "code",
    "executionInfo": {
     "elapsed": 38283,
     "status": "ok",
     "timestamp": 1575254189049,
     "user": {
      "displayName": "Emmy Phung",
      "photoUrl": "https://lh3.googleusercontent.com/a-/AAuE7mB0XMWxbfbNKbYDfXLX0_DPwLUNj1CQ0JzU4Gcd=s64",
      "userId": "15191778731511742618"
     },
     "user_tz": 300
    },
    "id": "p7_UdSfYdYDd",
    "outputId": "290d2054-f9fe-4a2b-81ad-570315e43a7f"
   },
   "outputs": [
    {
     "data": {
      "text/plain": [
       "(3779, 453)"
      ]
     },
     "execution_count": 33,
     "metadata": {},
     "output_type": "execute_result"
    }
   ],
   "source": [
    "vegas_final.shape"
   ]
  },
  {
   "cell_type": "code",
   "execution_count": 34,
   "metadata": {
    "colab": {
     "base_uri": "https://localhost:8080/",
     "height": 337
    },
    "colab_type": "code",
    "executionInfo": {
     "elapsed": 38696,
     "status": "ok",
     "timestamp": 1575254189483,
     "user": {
      "displayName": "Emmy Phung",
      "photoUrl": "https://lh3.googleusercontent.com/a-/AAuE7mB0XMWxbfbNKbYDfXLX0_DPwLUNj1CQ0JzU4Gcd=s64",
      "userId": "15191778731511742618"
     },
     "user_tz": 300
    },
    "id": "N-z1mtNdqNml",
    "outputId": "e7807bef-83c1-409b-f576-161536f69daa"
   },
   "outputs": [
    {
     "data": {
      "text/plain": [
       "<matplotlib.collections.PathCollection at 0x1261beeb8>"
      ]
     },
     "execution_count": 34,
     "metadata": {},
     "output_type": "execute_result"
    },
    {
     "data": {
      "image/png": "[encoded data removed]",
      "text/plain": [
       "<Figure size 1440x360 with 1 Axes>"
      ]
     },
     "metadata": {
      "needs_background": "light"
     },
     "output_type": "display_data"
    }
   ],
   "source": [
    "#Plot to compare the restaurants that have highest ratings (and total review counts) vs. lowest ones\n",
    "#Introduce the interaction term, 'total_stars' = 'review_count'*'stars'\n",
    "\n",
    "fig,ax = plt.subplots(figsize =[20,5])\n",
    "vegas_final['total_stars'] = vegas_final['stars']*vegas_final['review_count']\n",
    "highstar = vegas_final[vegas_final['success']==1].sort_values(['total_stars'],ascending=False)\n",
    "y = highstar['total_stars'].head(10)\n",
    "x = highstar['name'].head(10)\n",
    "plt.scatter(x,y)\n",
    "\n",
    "# z = df['review_count'].head(10)"
   ]
  },
  {
   "cell_type": "code",
   "execution_count": 35,
   "metadata": {
    "colab": {
     "base_uri": "https://localhost:8080/",
     "height": 282
    },
    "colab_type": "code",
    "executionInfo": {
     "elapsed": 38686,
     "status": "ok",
     "timestamp": 1575254189484,
     "user": {
      "displayName": "Emmy Phung",
      "photoUrl": "https://lh3.googleusercontent.com/a-/AAuE7mB0XMWxbfbNKbYDfXLX0_DPwLUNj1CQ0JzU4Gcd=s64",
      "userId": "15191778731511742618"
     },
     "user_tz": 300
    },
    "id": "TMWo5aItsfpq",
    "outputId": "f366f26c-82b0-46f6-df22-d0c3b747eca0"
   },
   "outputs": [
    {
     "data": {
      "text/plain": [
       "<matplotlib.collections.PathCollection at 0x1222516a0>"
      ]
     },
     "execution_count": 35,
     "metadata": {},
     "output_type": "execute_result"
    },
    {
     "data": {
      "image/png": "[encoded data removed]",
      "text/plain": [
       "<Figure size 432x288 with 1 Axes>"
      ]
     },
     "metadata": {
      "needs_background": "light"
     },
     "output_type": "display_data"
    }
   ],
   "source": [
    "lowstar = vegas_final[vegas_final['success']==0].sort_values(['total_stars'],ascending=True)\n",
    "y2 = lowstar['stars'].head(15)\n",
    "x2 = lowstar['name'].head(15)\n",
    "plt.scatter(y2,x2)"
   ]
  },
  {
   "cell_type": "code",
   "execution_count": 36,
   "metadata": {
    "colab": {
     "base_uri": "https://localhost:8080/",
     "height": 473
    },
    "colab_type": "code",
    "executionInfo": {
     "elapsed": 39628,
     "status": "ok",
     "timestamp": 1575254190435,
     "user": {
      "displayName": "Emmy Phung",
      "photoUrl": "https://lh3.googleusercontent.com/a-/AAuE7mB0XMWxbfbNKbYDfXLX0_DPwLUNj1CQ0JzU4Gcd=s64",
      "userId": "15191778731511742618"
     },
     "user_tz": 300
    },
    "id": "m4wtpelKNy1p",
    "outputId": "fb371712-b0c1-4af3-f4dc-aa2feae69e5b"
   },
   "outputs": [
    {
     "data": {
      "text/plain": [
       "Text(0, 0.5, 'Average rating')"
      ]
     },
     "execution_count": 36,
     "metadata": {},
     "output_type": "execute_result"
    },
    {
     "data": {
      "image/png": "[encoded data removed]",
      "text/plain": [
       "<Figure size 1440x360 with 1 Axes>"
      ]
     },
     "metadata": {
      "needs_background": "light"
     },
     "output_type": "display_data"
    }
   ],
   "source": [
    "#Plot reviews and stars\n",
    "fig,ax = plt.subplots(figsize =[20,5])\n",
    "\n",
    "x_stars = vegas_final['stars']\n",
    "y_reviews = vegas_final['review_count']\n",
    "z_name = vegas_final['name']\n",
    "\n",
    "plt.scatter(y_reviews,x_stars)\n",
    "plt.xlim(0,2000)\n",
    "\n",
    "for i, txt in enumerate(z_name):\n",
    "  if (y_reviews.iloc[i]>2500 and x_stars.iloc[i]>=4.0):\n",
    "    plt.annotate(txt, (y_reviews.iloc[i], x_stars.iloc[i]),xytext=(-5, 10), textcoords='offset points',ha = 'left',va='bottom', rotation=45 )\n",
    "\n",
    "plt.title('Distribution of star ratings and review counts for Vegas\\'s restaurants on Yelp')\n",
    "plt.xlabel('Number of reviews')\n",
    "plt.ylabel('Average rating')"
   ]
  }
 ],
 "metadata": {
  "colab": {
   "collapsed_sections": [],
   "name": "EDA_CSV.ipynb",
   "provenance": []
  },
  "kernelspec": {
   "display_name": "Python 3",
   "language": "python",
   "name": "python3"
  },
  "language_info": {
   "codemirror_mode": {
    "name": "ipython",
    "version": 3
   },
   "file_extension": ".py",
   "mimetype": "text/x-python",
   "name": "python",
   "nbconvert_exporter": "python",
   "pygments_lexer": "ipython3",
   "version": "3.7.0"
  }
 },
 "nbformat": 4,
 "nbformat_minor": 1
}
