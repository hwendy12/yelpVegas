{
 "cells": [
  {
   "cell_type": "markdown",
   "metadata": {},
   "source": [
    "# Recommender System\n",
    "\n",
    "The recommender system is aimed to help restaurant owners study their top competitors based on their profiles on Yelp."
   ]
  },
  {
   "cell_type": "code",
   "execution_count": 1,
   "metadata": {},
   "outputs": [],
   "source": [
    "import pandas as pd\n",
    "import numpy as np\n",
    "from sklearn.feature_extraction.text import CountVectorizer\n",
    "from sklearn.metrics.pairwise import cosine_similarity"
   ]
  },
  {
   "cell_type": "code",
   "execution_count": 8,
   "metadata": {},
   "outputs": [
    {
     "data": {
      "text/plain": [
       "(3779, 422)"
      ]
     },
     "execution_count": 8,
     "metadata": {},
     "output_type": "execute_result"
    }
   ],
   "source": [
    "data_org = pd.read_csv('vegas_cuisine.csv')\n",
    "data_org.shape"
   ]
  },
  {
   "cell_type": "markdown",
   "metadata": {},
   "source": [
    "We pick these following columns as important columns based on key features ranked by our Decision Tree and Logistic Regression models."
   ]
  },
  {
   "cell_type": "code",
   "execution_count": 9,
   "metadata": {},
   "outputs": [],
   "source": [
    "important_cols = ['org_index','name','postal_code','latitude','longitude','stars','review_count',\n",
    "                  'asian','european','namerica','samerica','other',              \n",
    "'BusinessParking_street',\n",
    " 'BusinessParking_validated',\n",
    " 'BusinessParking_valet',\n",
    " 'class',\n",
    " 'Arts & Entertainment',\n",
    " 'Asian Fusion',\n",
    " 'Bakeries',\n",
    " 'Barbeque',\n",
    " 'Bars',\n",
    " 'Beer',\n",
    " 'Breakfast & Brunch',\n",
    " 'Buffets',\n",
    " 'Cafes',\n",
    " 'Casinos',\n",
    " 'Caterers',\n",
    " 'Cocktail Bars',\n",
    " 'Coffee & Tea',\n",
    " 'Desserts',\n",
    " 'Diners',\n",
    " 'Event Planning & Services',\n",
    " 'Food',\n",
    " 'Food Delivery Services',\n",
    " 'Food Stands',\n",
    " 'Food Trucks',\n",
    " 'Gluten-Free',\n",
    " 'Grocery',\n",
    " 'Hawaiian',\n",
    " 'Ice Cream & Frozen Yogurt',\n",
    " 'Juice Bars & Smoothies',\n",
    " 'Lounges',\n",
    " 'Nightlife',\n",
    " 'Pubs',\n",
    " 'Restaurants',\n",
    " 'Salad',\n",
    " 'Seafood',\n",
    " 'Shopping',\n",
    " 'Soup',\n",
    " 'Specialty Food',\n",
    " 'Sports Bars',\n",
    " 'Steakhouses',\n",
    " 'Sushi Bars']"
   ]
  },
  {
   "cell_type": "code",
   "execution_count": 10,
   "metadata": {},
   "outputs": [],
   "source": [
    "data = data_org[important_cols]\n",
    "data = data.fillna(data.mean())"
   ]
  },
  {
   "cell_type": "markdown",
   "metadata": {},
   "source": [
    "data[data['asian'] == True]['name']"
   ]
  },
  {
   "cell_type": "code",
   "execution_count": 42,
   "metadata": {},
   "outputs": [],
   "source": [
    "def get_title_from_index(data,index):\n",
    "    name = data[data.index == index][\"name\"].values\n",
    "#     if type(name) == list:\n",
    "#         name = name[0]\n",
    "    return name\n",
    "\n",
    "def get_index_from_title(data, name):\n",
    "    idx = data[data.name == name].index\n",
    "    if len(idx) > 0:\n",
    "        idx = idx[0]\n",
    "    return idx"
   ]
  },
  {
   "cell_type": "code",
   "execution_count": 51,
   "metadata": {},
   "outputs": [
    {
     "data": {
      "text/plain": [
       "array(['Subway'], dtype=object)"
      ]
     },
     "execution_count": 51,
     "metadata": {},
     "output_type": "execute_result"
    }
   ],
   "source": [
    "id = get_title_from_index(data,0)\n",
    "id"
   ]
  },
  {
   "cell_type": "markdown",
   "metadata": {},
   "source": [
    "### First version\n",
    "The first version of the recommender system will output 10 competing restaurants that are found to be the most similar to our target restaurant."
   ]
  },
  {
   "cell_type": "code",
   "execution_count": 75,
   "metadata": {},
   "outputs": [],
   "source": [
    "#Get a list of similar restaurants (given a target restaurant) in descending order of similarity score\n",
    "#1 only look at restaurants of the same category\n",
    "cuisine_list = ['asian','namerica','samerica','european']\n",
    "\n",
    "def top_similar_res(data):\n",
    "    #Get user's input - a name of a restaurant. Here we assume that the restaurant has a Yelp profile and is in our dataset\n",
    "    title = str(input('Enter a name of a restaurant: ')) \n",
    "    \n",
    "    #Get the cuisine of the restaurant\n",
    "    cuisine = str(input('Please specify the cuisine type (choose among these following options: asian, namerica, samerica or european): '))\n",
    "    \n",
    "    #Print confirmation\n",
    "    print('The selected restaurant and cuisine type are: '+ title +', '+cuisine)\n",
    "    \n",
    "    #Get index of a restaurant from its name \n",
    "    res_index = int(get_index_from_title(data,title))\n",
    "    \n",
    "    #only compare the restaurants with others of the same cuisine\n",
    "    datause = data[data[cuisine] ==True]\n",
    "    \n",
    "    for i in cuisine_list:\n",
    "        if i != cuisine:\n",
    "            datause = datause[datause[i] == False]\n",
    "    datause.reset_index(inplace = True) \n",
    "            \n",
    "    print('There are ' + str(datause.shape[0]) + ' restaurants of the same cuisine')\n",
    "    res_index = int(get_index_from_title(data,title))\n",
    "        \n",
    "    #Select features and compute cosine sim matrix\n",
    "    features = datause.columns.tolist()\n",
    "    features.remove('name')\n",
    "    features.remove('org_index')\n",
    "    \n",
    "    dfuse = np.matrix(datause[features])\n",
    "    cosine_sim = cosine_similarity(dfuse)\n",
    "    similar_res =  list(enumerate(cosine_sim[res_index]))\n",
    "    sorted_similar_res = sorted(similar_res,key=lambda x:x[1],reverse=True)\n",
    "\n",
    "    # Print\n",
    "    print(' ')\n",
    "    print('List of top 10 competitors: ')\n",
    "    i=0\n",
    "    for element in sorted_similar_res:\n",
    "        title_sim = get_title_from_index(datause, element[0])\n",
    "        stars = datause['stars'][element[0]]\n",
    "        review = datause['review_count'][element[0]]\n",
    "        \n",
    "        if title_sim != title:\n",
    "            print(title_sim, stars, review)\n",
    "        i=i+1\n",
    "        if i>10:\n",
    "            break"
   ]
  },
  {
   "cell_type": "code",
   "execution_count": 76,
   "metadata": {},
   "outputs": [
    {
     "name": "stdout",
     "output_type": "stream",
     "text": [
      "Enter a name of a restaurant: Subway\n",
      "Please specify the cuisine type (choose among these following options: asian, namerica, samerica or european): namerica\n",
      "The selected restaurant and cuisine type are: Subway, namerica\n",
      "There are 1775 restaurants of the same cuisine\n",
      " \n",
      "List of top 10 competitors: \n",
      "['Popeyes Louisiana Kitchen'] 1.5 16\n",
      "['Pizza Hut'] 2.5 19\n",
      "['Metro Pizza'] 2.5 21\n",
      "[\"Domino's Pizza\"] 2.5 27\n",
      "['Fatburger'] 2.5 22\n",
      "['KFC'] 2.0 21\n",
      "[\"Charlie's Market Buffet\"] 2.5 15\n",
      "['Taste My Love'] 4.5 11\n",
      "['Ace Of Steaks'] 4.5 35\n",
      "['Jack in the Box'] 3.0 33\n"
     ]
    }
   ],
   "source": [
    "top_similar_res(data)"
   ]
  },
  {
   "cell_type": "markdown",
   "metadata": {},
   "source": [
    "Based on this recommender system, the restaurants that are most similar to Subway is Popeyes Louisiana Kitchen, Pizza Hut and Metro Pizza. This makes sense since they all serve fast food."
   ]
  },
  {
   "cell_type": "markdown",
   "metadata": {},
   "source": [
    "### Second Version\n",
    "The second version of the restaurant will ask users how many competitors they want to examine. It will output that number of competitors if the competitors are beating our target restaurant in certain aspects (either in star rating or review counts)"
   ]
  },
  {
   "cell_type": "code",
   "execution_count": 82,
   "metadata": {},
   "outputs": [],
   "source": [
    "#Get a list of similar restaurants (given a target restaurant) in descending order of similarity score\n",
    "#1 only look at restaurants of the same category\n",
    "def get_stars_reviewcount_from_index(data,index):\n",
    "    star = data[data.index == index][\"stars\"].values\n",
    "    review = data[data.index == index][\"review_count\"].values\n",
    "    return star, review\n",
    "\n",
    "def top_similar_res(data):\n",
    "    #Get user's input - a name of a restaurant. Here we assume that the restaurant has a Yelp profile and is in our dataset\n",
    "    title = str(input('Enter a name of a restaurant: ')) \n",
    "    \n",
    "    #Get the cuisine of the restaurant\n",
    "    cuisine = str(input('Please specify the cuisine type (choose among these following options: asian, namerica, samerica or european): '))\n",
    "    \n",
    "    #Print confirmation\n",
    "    print('The selected restaurant and cuisine type are: '+ title +', '+cuisine)\n",
    "    \n",
    "    #Get the number of competitors users want to see\n",
    "    numofcomp = int(input('Enter the number of competitors use want to see: '))\n",
    "    \n",
    "    #Get index of a restaurant from its name \n",
    "    res_index = int(get_index_from_title(data,title))\n",
    "    \n",
    "    #Get the stars and review counts of the input restaurant\n",
    "    input_star, input_review = get_stars_reviewcount_from_index(data,res_index)\n",
    "    print('Rating star and number of reviews for '+ title +' are: '+ str(input_star) + ', ' + str(input_review))\n",
    "        \n",
    "    #Get index of a restaurant from its name\n",
    "    res_index = int(get_index_from_title(data,title))\n",
    "    print('The selected restaurant and cuisine type are: '+ title +', '+cuisine)\n",
    "    \n",
    "    #only compare the restaurants with others of the same cuisine\n",
    "    datause = data[data[cuisine] ==True]\n",
    "    \n",
    "    for i in cuisine_list:\n",
    "        if i != cuisine:\n",
    "            datause = datause[datause[i] == False]\n",
    "    datause.reset_index(inplace = True) \n",
    "            \n",
    "    print('There are ' + str(datause.shape[0]) + ' restaurants of the same cuisine')\n",
    "        \n",
    "    #Select features and compute cosine sim matrix\n",
    "    features = datause.columns.tolist()\n",
    "    features.remove('name')\n",
    "    features.remove('org_index')\n",
    "    \n",
    "    dfuse = np.matrix(datause[features])\n",
    "    cosine_sim = cosine_similarity(dfuse)\n",
    "    similar_res =  list(enumerate(cosine_sim[res_index]))\n",
    "    sorted_similar_res = sorted(similar_res,key=lambda x:x[1],reverse=True)\n",
    "\n",
    "    # Print\n",
    "    print(' ')\n",
    "    print('List of top 10 competitors: ')\n",
    "    i=0\n",
    "    for element in sorted_similar_res:\n",
    "        title_sim = get_title_from_index(datause, element[0])\n",
    "        stars = datause['stars'][element[0]]\n",
    "        review = datause['review_count'][element[0]]\n",
    "        if title_sim != title:\n",
    "            if stars > input_star or review > input_review:\n",
    "                print(title_sim, stars, review)\n",
    "                i=i+1\n",
    "        if i> numofcomp:\n",
    "            break"
   ]
  },
  {
   "cell_type": "code",
   "execution_count": 83,
   "metadata": {},
   "outputs": [
    {
     "name": "stdout",
     "output_type": "stream",
     "text": [
      "Enter a name of a restaurant: Subway\n",
      "Please specify the cuisine type (choose among these following options: asian, namerica, samerica or european): namerica\n",
      "The selected restaurant and cuisine type are: Subway, namerica\n",
      "Enter the number of competitors use want to see: 15\n",
      "Rating star and number of reviews for Subway are: [2.5], [13]\n",
      "The selected restaurant and cuisine type are: Subway, namerica\n",
      "There are 1775 restaurants of the same cuisine\n",
      " \n",
      "List of top 10 competitors: \n",
      "['Popeyes Louisiana Kitchen'] 1.5 16\n",
      "['Pizza Hut'] 2.5 19\n",
      "['Metro Pizza'] 2.5 21\n",
      "[\"Domino's Pizza\"] 2.5 27\n",
      "['Fatburger'] 2.5 22\n",
      "['KFC'] 2.0 21\n",
      "[\"Charlie's Market Buffet\"] 2.5 15\n",
      "['Taste My Love'] 4.5 11\n",
      "['Ace Of Steaks'] 4.5 35\n",
      "['Jack in the Box'] 3.0 33\n",
      "['Bagels And Subs'] 4.5 21\n",
      "['Port of Subs'] 3.0 15\n",
      "[\"Jason's Deli\"] 3.5 47\n",
      "['Popeyes Louisiana Kitchen'] 2.0 56\n",
      "['Pizza Hut'] 2.5 25\n",
      "['Checkers'] 2.0 59\n"
     ]
    }
   ],
   "source": [
    "top_similar_res(data)"
   ]
  }
 ],
 "metadata": {
  "kernelspec": {
   "display_name": "Python 3",
   "language": "python",
   "name": "python3"
  },
  "language_info": {
   "codemirror_mode": {
    "name": "ipython",
    "version": 3
   },
   "file_extension": ".py",
   "mimetype": "text/x-python",
   "name": "python",
   "nbconvert_exporter": "python",
   "pygments_lexer": "ipython3",
   "version": "3.7.4"
  }
 },
 "nbformat": 4,
 "nbformat_minor": 2
}
