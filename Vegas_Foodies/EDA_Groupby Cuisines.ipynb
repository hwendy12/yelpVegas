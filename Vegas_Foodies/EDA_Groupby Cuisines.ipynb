{
 "cells": [
  {
   "cell_type": "markdown",
   "metadata": {
    "colab_type": "text",
    "id": "jxMEZj0I3lgR"
   },
   "source": [
    "Questions to be considered:\n",
    "\n",
    "\n",
    "1. Group the restaurants by cuisines\n",
    "2. Cuisines types: asian, european, north america, south america, other (cannot classify)\n",
    "3. EDA for each cuisine\n",
    "\n"
   ]
  },
  {
   "cell_type": "code",
   "execution_count": 1,
   "metadata": {
    "colab": {
     "base_uri": "https://localhost:8080/",
     "height": 183
    },
    "colab_type": "code",
    "executionInfo": {
     "elapsed": 24911,
     "status": "ok",
     "timestamp": 1575754940673,
     "user": {
      "displayName": "Emmy Phung",
      "photoUrl": "https://lh3.googleusercontent.com/a-/AAuE7mB0XMWxbfbNKbYDfXLX0_DPwLUNj1CQ0JzU4Gcd=s64",
      "userId": "15191778731511742618"
     },
     "user_tz": 300
    },
    "id": "aB_B_LWNFD2z",
    "outputId": "778f7497-6f89-4a86-9048-75fa6b05a6e8"
   },
   "outputs": [],
   "source": [
    "import pandas as pd\n",
    "import numpy as np\n",
    "\n",
    "import warnings\n",
    "warnings.filterwarnings(\"ignore\")\n",
    "\n",
    "import matplotlib.pyplot as plt"
   ]
  },
  {
   "cell_type": "code",
   "execution_count": 2,
   "metadata": {},
   "outputs": [
    {
     "name": "stdout",
     "output_type": "stream",
     "text": [
      "/Users/lisacombs/Documents/FALL2019/INTRO_DS/Project/notebooks\r\n"
     ]
    }
   ],
   "source": [
    "!pwd"
   ]
  },
  {
   "cell_type": "code",
   "execution_count": 3,
   "metadata": {
    "colab": {},
    "colab_type": "code",
    "id": "YShnvySPYDXW"
   },
   "outputs": [],
   "source": [
    "biz_file_path = '/Users/lisacombs/Documents/FALL2019/INTRO_DS/Project/clean_data/restaurant_open.csv'\n",
    "biz_att_file_path = '/Users/lisacombs/Documents/FALL2019/INTRO_DS/Project/raw_data/yelp_business_attributes.csv'"
   ]
  },
  {
   "cell_type": "code",
   "execution_count": 4,
   "metadata": {
    "colab": {},
    "colab_type": "code",
    "id": "6whDWpFmFmzj"
   },
   "outputs": [],
   "source": [
    "biz_df = pd.read_csv(biz_file_path)\n",
    "biz_att = pd.read_csv(biz_att_file_path)"
   ]
  },
  {
   "cell_type": "code",
   "execution_count": 5,
   "metadata": {
    "colab": {},
    "colab_type": "code",
    "id": "pU-lj6mpVq64"
   },
   "outputs": [],
   "source": [
    "data = pd.merge(biz_df,biz_att, on='business_id')"
   ]
  },
  {
   "cell_type": "code",
   "execution_count": 6,
   "metadata": {
    "colab": {},
    "colab_type": "code",
    "id": "kKcxAlxUFr__"
   },
   "outputs": [],
   "source": [
    "data.replace(to_replace='True', value = 1,inplace=True)\n",
    "data.replace(to_replace='False', value = 0,inplace=True)\n",
    "data.replace(to_replace='Na', value = 0.5,inplace=True) #only treat this as a categorical variable"
   ]
  },
  {
   "cell_type": "code",
   "execution_count": 7,
   "metadata": {
    "colab": {},
    "colab_type": "code",
    "id": "C4MLdDy6duYe"
   },
   "outputs": [],
   "source": [
    "data.replace(to_replace= ['beer_and_wine',        'casual',          'free',\n",
    "            'full_bar',          'loud', 'outdoor',         'quiet',           'yes',      'yes_free', '1', '2'], value = 1,inplace=True)\n",
    "data.replace(to_replace=['no', 'none'], value = 0,inplace=True)"
   ]
  },
  {
   "cell_type": "code",
   "execution_count": 8,
   "metadata": {
    "colab": {},
    "colab_type": "code",
    "id": "Wu0vf1K7SjlG"
   },
   "outputs": [],
   "source": [
    "vegas = data[data['city']=='Las Vegas']\n",
    "vegas.head()\n",
    "\n",
    "att = vegas.iloc[:,16:]"
   ]
  },
  {
   "cell_type": "code",
   "execution_count": 9,
   "metadata": {
    "colab": {},
    "colab_type": "code",
    "id": "hCmqbRn9pTAU"
   },
   "outputs": [],
   "source": [
    "features = ['Unnamed: 0',\n",
    " 'business_id',\n",
    " 'name',\n",
    " 'neighborhood',\n",
    " 'address',\n",
    " 'city',\n",
    " 'state',\n",
    " 'postal_code',\n",
    " 'latitude',\n",
    " 'longitude',\n",
    " 'stars',\n",
    " 'review_count',\n",
    " 'is_open',\n",
    " 'categories',\n",
    " 'hours',]"
   ]
  },
  {
   "cell_type": "code",
   "execution_count": 10,
   "metadata": {
    "colab": {},
    "colab_type": "code",
    "id": "Ygu0_JRYb1_S"
   },
   "outputs": [],
   "source": [
    "d = att.apply(pd.value_counts)\n",
    "col_names = d.columns.tolist()"
   ]
  },
  {
   "cell_type": "code",
   "execution_count": 11,
   "metadata": {
    "colab": {},
    "colab_type": "code",
    "id": "_LnHGAUHoeV_"
   },
   "outputs": [],
   "source": [
    "d = d.drop(columns ='HairSpecializesIn_coloring')"
   ]
  },
  {
   "cell_type": "code",
   "execution_count": 12,
   "metadata": {
    "colab": {},
    "colab_type": "code",
    "id": "Ncx3GEADh7KC"
   },
   "outputs": [],
   "source": [
    "col = d.loc[:,~(d == att.shape[0]).any()].columns.tolist()\n",
    "# d.loc[:,~(d == float(att.shape[0])).any()]"
   ]
  },
  {
   "cell_type": "code",
   "execution_count": 13,
   "metadata": {
    "colab": {},
    "colab_type": "code",
    "id": "-ifL5jDhGBVP"
   },
   "outputs": [],
   "source": [
    "colnames = features + col\n",
    "dataclean = data[colnames]"
   ]
  },
  {
   "cell_type": "code",
   "execution_count": 14,
   "metadata": {
    "colab": {
     "base_uri": "https://localhost:8080/",
     "height": 568
    },
    "colab_type": "code",
    "executionInfo": {
     "elapsed": 32456,
     "status": "ok",
     "timestamp": 1575754948263,
     "user": {
      "displayName": "Emmy Phung",
      "photoUrl": "https://lh3.googleusercontent.com/a-/AAuE7mB0XMWxbfbNKbYDfXLX0_DPwLUNj1CQ0JzU4Gcd=s64",
      "userId": "15191778731511742618"
     },
     "user_tz": 300
    },
    "id": "OWYngXhNtZ9s",
    "outputId": "de4da093-b6a0-4808-88f9-10f397c001f4"
   },
   "outputs": [
    {
     "data": {
      "text/html": [
       "<div>\n",
       "<style scoped>\n",
       "    .dataframe tbody tr th:only-of-type {\n",
       "        vertical-align: middle;\n",
       "    }\n",
       "\n",
       "    .dataframe tbody tr th {\n",
       "        vertical-align: top;\n",
       "    }\n",
       "\n",
       "    .dataframe thead th {\n",
       "        text-align: right;\n",
       "    }\n",
       "</style>\n",
       "<table border=\"1\" class=\"dataframe\">\n",
       "  <thead>\n",
       "    <tr style=\"text-align: right;\">\n",
       "      <th></th>\n",
       "      <th>Unnamed: 0</th>\n",
       "      <th>business_id</th>\n",
       "      <th>name</th>\n",
       "      <th>neighborhood</th>\n",
       "      <th>address</th>\n",
       "      <th>city</th>\n",
       "      <th>state</th>\n",
       "      <th>postal_code</th>\n",
       "      <th>latitude</th>\n",
       "      <th>longitude</th>\n",
       "      <th>...</th>\n",
       "      <th>BusinessAcceptsBitcoin</th>\n",
       "      <th>Open24Hours</th>\n",
       "      <th>BYOB</th>\n",
       "      <th>DietaryRestrictions_gluten-free</th>\n",
       "      <th>DietaryRestrictions_vegan</th>\n",
       "      <th>DietaryRestrictions_kosher</th>\n",
       "      <th>DietaryRestrictions_halal</th>\n",
       "      <th>DietaryRestrictions_soy-free</th>\n",
       "      <th>DietaryRestrictions_vegetarian</th>\n",
       "      <th>AgesAllowed</th>\n",
       "    </tr>\n",
       "  </thead>\n",
       "  <tbody>\n",
       "    <tr>\n",
       "      <td>8</td>\n",
       "      <td>32</td>\n",
       "      <td>kgffcoxT6BQp-gJ-UQ7Czw</td>\n",
       "      <td>Subway</td>\n",
       "      <td>Summerlin</td>\n",
       "      <td>2255 N Rampart Blvd</td>\n",
       "      <td>Las Vegas</td>\n",
       "      <td>NV</td>\n",
       "      <td>89128</td>\n",
       "      <td>36.201794</td>\n",
       "      <td>-115.281981</td>\n",
       "      <td>...</td>\n",
       "      <td>0.5</td>\n",
       "      <td>0.5</td>\n",
       "      <td>0.5</td>\n",
       "      <td>0.5</td>\n",
       "      <td>0.5</td>\n",
       "      <td>0.5</td>\n",
       "      <td>0.5</td>\n",
       "      <td>0.5</td>\n",
       "      <td>0.5</td>\n",
       "      <td>0.5</td>\n",
       "    </tr>\n",
       "    <tr>\n",
       "      <td>9</td>\n",
       "      <td>33</td>\n",
       "      <td>0jtRI7hVMpQHpUVtUy4ITw</td>\n",
       "      <td>Omelet House Summerlin</td>\n",
       "      <td>Summerlin</td>\n",
       "      <td>2227 N Rampart Blvd</td>\n",
       "      <td>Las Vegas</td>\n",
       "      <td>NV</td>\n",
       "      <td>89128</td>\n",
       "      <td>36.201990</td>\n",
       "      <td>-115.283122</td>\n",
       "      <td>...</td>\n",
       "      <td>0.5</td>\n",
       "      <td>0.5</td>\n",
       "      <td>0.5</td>\n",
       "      <td>0.5</td>\n",
       "      <td>0.5</td>\n",
       "      <td>0.5</td>\n",
       "      <td>0.5</td>\n",
       "      <td>0.5</td>\n",
       "      <td>0.5</td>\n",
       "      <td>0.5</td>\n",
       "    </tr>\n",
       "    <tr>\n",
       "      <td>32</td>\n",
       "      <td>141</td>\n",
       "      <td>zhxnD7J5_sCrKSw5cwI9dQ</td>\n",
       "      <td>Popeyes Louisiana Kitchen</td>\n",
       "      <td>Sunrise</td>\n",
       "      <td>4505 E Bonanza Rd</td>\n",
       "      <td>Las Vegas</td>\n",
       "      <td>NV</td>\n",
       "      <td>89110</td>\n",
       "      <td>36.173140</td>\n",
       "      <td>-115.077945</td>\n",
       "      <td>...</td>\n",
       "      <td>0.5</td>\n",
       "      <td>0.5</td>\n",
       "      <td>0.5</td>\n",
       "      <td>0.5</td>\n",
       "      <td>0.5</td>\n",
       "      <td>0.5</td>\n",
       "      <td>0.5</td>\n",
       "      <td>0.5</td>\n",
       "      <td>0.5</td>\n",
       "      <td>0.5</td>\n",
       "    </tr>\n",
       "    <tr>\n",
       "      <td>34</td>\n",
       "      <td>143</td>\n",
       "      <td>2kWrSFkIes_d2BMg4YrRtA</td>\n",
       "      <td>Pizza Hut</td>\n",
       "      <td>Sunrise</td>\n",
       "      <td>560 N. Nellis Blvd, Ste E1</td>\n",
       "      <td>Las Vegas</td>\n",
       "      <td>NV</td>\n",
       "      <td>89110</td>\n",
       "      <td>36.169353</td>\n",
       "      <td>-115.061694</td>\n",
       "      <td>...</td>\n",
       "      <td>0.5</td>\n",
       "      <td>0.5</td>\n",
       "      <td>0.5</td>\n",
       "      <td>0.5</td>\n",
       "      <td>0.5</td>\n",
       "      <td>0.5</td>\n",
       "      <td>0.5</td>\n",
       "      <td>0.5</td>\n",
       "      <td>0.5</td>\n",
       "      <td>0.5</td>\n",
       "    </tr>\n",
       "    <tr>\n",
       "      <td>35</td>\n",
       "      <td>145</td>\n",
       "      <td>6llKs7K_tn8ChXcIM-oTvg</td>\n",
       "      <td>Sansei Japan</td>\n",
       "      <td>Eastside</td>\n",
       "      <td>3480 S Maryland Pkwy</td>\n",
       "      <td>Las Vegas</td>\n",
       "      <td>NV</td>\n",
       "      <td>89169</td>\n",
       "      <td>36.125934</td>\n",
       "      <td>-115.135253</td>\n",
       "      <td>...</td>\n",
       "      <td>0.5</td>\n",
       "      <td>0.5</td>\n",
       "      <td>0.5</td>\n",
       "      <td>0.5</td>\n",
       "      <td>0.5</td>\n",
       "      <td>0.5</td>\n",
       "      <td>0.5</td>\n",
       "      <td>0.5</td>\n",
       "      <td>0.5</td>\n",
       "      <td>0.5</td>\n",
       "    </tr>\n",
       "  </tbody>\n",
       "</table>\n",
       "<p>5 rows × 65 columns</p>\n",
       "</div>"
      ],
      "text/plain": [
       "    Unnamed: 0             business_id                       name  \\\n",
       "8           32  kgffcoxT6BQp-gJ-UQ7Czw                     Subway   \n",
       "9           33  0jtRI7hVMpQHpUVtUy4ITw     Omelet House Summerlin   \n",
       "32         141  zhxnD7J5_sCrKSw5cwI9dQ  Popeyes Louisiana Kitchen   \n",
       "34         143  2kWrSFkIes_d2BMg4YrRtA                  Pizza Hut   \n",
       "35         145  6llKs7K_tn8ChXcIM-oTvg               Sansei Japan   \n",
       "\n",
       "   neighborhood                     address       city state postal_code  \\\n",
       "8     Summerlin         2255 N Rampart Blvd  Las Vegas    NV       89128   \n",
       "9     Summerlin         2227 N Rampart Blvd  Las Vegas    NV       89128   \n",
       "32      Sunrise           4505 E Bonanza Rd  Las Vegas    NV       89110   \n",
       "34      Sunrise  560 N. Nellis Blvd, Ste E1  Las Vegas    NV       89110   \n",
       "35     Eastside        3480 S Maryland Pkwy  Las Vegas    NV       89169   \n",
       "\n",
       "     latitude   longitude  ...  BusinessAcceptsBitcoin  Open24Hours  BYOB  \\\n",
       "8   36.201794 -115.281981  ...                     0.5          0.5   0.5   \n",
       "9   36.201990 -115.283122  ...                     0.5          0.5   0.5   \n",
       "32  36.173140 -115.077945  ...                     0.5          0.5   0.5   \n",
       "34  36.169353 -115.061694  ...                     0.5          0.5   0.5   \n",
       "35  36.125934 -115.135253  ...                     0.5          0.5   0.5   \n",
       "\n",
       "   DietaryRestrictions_gluten-free DietaryRestrictions_vegan  \\\n",
       "8                              0.5                       0.5   \n",
       "9                              0.5                       0.5   \n",
       "32                             0.5                       0.5   \n",
       "34                             0.5                       0.5   \n",
       "35                             0.5                       0.5   \n",
       "\n",
       "    DietaryRestrictions_kosher  DietaryRestrictions_halal  \\\n",
       "8                          0.5                        0.5   \n",
       "9                          0.5                        0.5   \n",
       "32                         0.5                        0.5   \n",
       "34                         0.5                        0.5   \n",
       "35                         0.5                        0.5   \n",
       "\n",
       "    DietaryRestrictions_soy-free  DietaryRestrictions_vegetarian  AgesAllowed  \n",
       "8                            0.5                             0.5          0.5  \n",
       "9                            0.5                             0.5          0.5  \n",
       "32                           0.5                             0.5          0.5  \n",
       "34                           0.5                             0.5          0.5  \n",
       "35                           0.5                             0.5          0.5  \n",
       "\n",
       "[5 rows x 65 columns]"
      ]
     },
     "execution_count": 14,
     "metadata": {},
     "output_type": "execute_result"
    }
   ],
   "source": [
    "vegas_clean = dataclean[dataclean['city']=='Las Vegas']\n",
    "vegas_clean.head()"
   ]
  },
  {
   "cell_type": "code",
   "execution_count": 15,
   "metadata": {
    "colab": {
     "base_uri": "https://localhost:8080/",
     "height": 53
    },
    "colab_type": "code",
    "executionInfo": {
     "elapsed": 32449,
     "status": "ok",
     "timestamp": 1575754948264,
     "user": {
      "displayName": "Emmy Phung",
      "photoUrl": "https://lh3.googleusercontent.com/a-/AAuE7mB0XMWxbfbNKbYDfXLX0_DPwLUNj1CQ0JzU4Gcd=s64",
      "userId": "15191778731511742618"
     },
     "user_tz": 300
    },
    "id": "9SIrYfczOKmT",
    "outputId": "8880585d-cb88-43d5-b237-958d33d17bdc"
   },
   "outputs": [
    {
     "data": {
      "text/plain": [
       "'chinese|japanese|asian|indian|sushi|dim dum|cantonese|ramen|noodles|thai|vietnamese|filipino|korean|mediterranean|italian|greek|french|creperies|tapas bars|middle eastern|halal|pizza|sandwiches|delis|wraps|chicken wings|chicken shop|hot dogs|cheesesteaks|burgers|american|steak|southern|comfort food|cajun|creole|soul food|fast food|mexican|latin american|tex-mex|tacos|salvadoran'"
      ]
     },
     "execution_count": 15,
     "metadata": {},
     "output_type": "execute_result"
    }
   ],
   "source": [
    "#Group features by cuisines\n",
    "asian = 'chinese|japanese|asian|indian|sushi|dim dum|cantonese|ramen|noodles|thai|vietnamese|filipino|korean'\n",
    "european = 'mediterranean|italian|greek|french|creperies|tapas bars|middle eastern|halal' #remove 'tapas' \n",
    "namerica = 'pizza|sandwiches|delis|wraps|chicken wings|chicken shop|hot dogs|cheesesteaks|burgers|american|steak|southern|comfort food|cajun|creole|soul food|fast food'\n",
    "#remove 'barbeque' since a korean bbq has it and outperforms the class.\n",
    "samerica = 'mexican|latin american|tex-mex|tacos|salvadoran'\n",
    "other = asian +'|'+ european +'|'+ namerica +'|'+ samerica\n",
    "other"
   ]
  },
  {
   "cell_type": "code",
   "execution_count": 16,
   "metadata": {
    "colab": {
     "base_uri": "https://localhost:8080/",
     "height": 33
    },
    "colab_type": "code",
    "executionInfo": {
     "elapsed": 32444,
     "status": "ok",
     "timestamp": 1575754948266,
     "user": {
      "displayName": "Emmy Phung",
      "photoUrl": "https://lh3.googleusercontent.com/a-/AAuE7mB0XMWxbfbNKbYDfXLX0_DPwLUNj1CQ0JzU4Gcd=s64",
      "userId": "15191778731511742618"
     },
     "user_tz": 300
    },
    "id": "jzT3Ttdk3u8r",
    "outputId": "07d7e128-558b-4b77-f440-935ee3ba3716"
   },
   "outputs": [
    {
     "data": {
      "text/plain": [
       "71"
      ]
     },
     "execution_count": 16,
     "metadata": {},
     "output_type": "execute_result"
    }
   ],
   "source": [
    "only_desc = vegas_clean['categories'].str.lower()\n",
    "\n",
    "with_features = (vegas_clean\n",
    " .assign(asian     = only_desc.str.contains(asian))\n",
    " .assign(european = only_desc.str.contains(european))\n",
    " .assign(namerica    = only_desc.str.contains(namerica))\n",
    " .assign(samerica  = only_desc.str.contains(samerica))\n",
    " .assign(other = ~only_desc.str.contains(other)))\n",
    "\n",
    "with_features['class'] = with_features.iloc[:,-5:].sum(axis = 1)\n",
    "len(with_features.columns)"
   ]
  },
  {
   "cell_type": "code",
   "execution_count": 17,
   "metadata": {
    "colab": {
     "base_uri": "https://localhost:8080/",
     "height": 313
    },
    "colab_type": "code",
    "executionInfo": {
     "elapsed": 33000,
     "status": "ok",
     "timestamp": 1575754948828,
     "user": {
      "displayName": "Emmy Phung",
      "photoUrl": "https://lh3.googleusercontent.com/a-/AAuE7mB0XMWxbfbNKbYDfXLX0_DPwLUNj1CQ0JzU4Gcd=s64",
      "userId": "15191778731511742618"
     },
     "user_tz": 300
    },
    "id": "azfE39uPWIpB",
    "outputId": "7a0a7afe-e576-47a6-a72e-b69a027ef5ff"
   },
   "outputs": [
    {
     "data": {
      "text/html": [
       "<div>\n",
       "<style scoped>\n",
       "    .dataframe tbody tr th:only-of-type {\n",
       "        vertical-align: middle;\n",
       "    }\n",
       "\n",
       "    .dataframe tbody tr th {\n",
       "        vertical-align: top;\n",
       "    }\n",
       "\n",
       "    .dataframe thead th {\n",
       "        text-align: right;\n",
       "    }\n",
       "</style>\n",
       "<table border=\"1\" class=\"dataframe\">\n",
       "  <thead>\n",
       "    <tr style=\"text-align: right;\">\n",
       "      <th></th>\n",
       "      <th>Unnamed: 0</th>\n",
       "      <th>latitude</th>\n",
       "      <th>longitude</th>\n",
       "      <th>stars</th>\n",
       "      <th>review_count</th>\n",
       "      <th>is_open</th>\n",
       "      <th>BusinessAcceptsCreditCards</th>\n",
       "      <th>BusinessParking_garage</th>\n",
       "      <th>BusinessParking_street</th>\n",
       "      <th>BusinessParking_validated</th>\n",
       "      <th>...</th>\n",
       "      <th>Open24Hours</th>\n",
       "      <th>BYOB</th>\n",
       "      <th>DietaryRestrictions_gluten-free</th>\n",
       "      <th>DietaryRestrictions_vegan</th>\n",
       "      <th>DietaryRestrictions_kosher</th>\n",
       "      <th>DietaryRestrictions_halal</th>\n",
       "      <th>DietaryRestrictions_soy-free</th>\n",
       "      <th>DietaryRestrictions_vegetarian</th>\n",
       "      <th>AgesAllowed</th>\n",
       "      <th>class</th>\n",
       "    </tr>\n",
       "  </thead>\n",
       "  <tbody>\n",
       "    <tr>\n",
       "      <td>count</td>\n",
       "      <td>710.000000</td>\n",
       "      <td>710.000000</td>\n",
       "      <td>710.000000</td>\n",
       "      <td>710.000000</td>\n",
       "      <td>710.000000</td>\n",
       "      <td>710.0</td>\n",
       "      <td>710.000000</td>\n",
       "      <td>710.000000</td>\n",
       "      <td>710.000000</td>\n",
       "      <td>710.000000</td>\n",
       "      <td>...</td>\n",
       "      <td>710.0</td>\n",
       "      <td>710.000000</td>\n",
       "      <td>710.000000</td>\n",
       "      <td>710.000000</td>\n",
       "      <td>710.000000</td>\n",
       "      <td>710.000000</td>\n",
       "      <td>710.000000</td>\n",
       "      <td>710.000000</td>\n",
       "      <td>710.000000</td>\n",
       "      <td>710.000000</td>\n",
       "    </tr>\n",
       "    <tr>\n",
       "      <td>mean</td>\n",
       "      <td>100284.973239</td>\n",
       "      <td>36.122102</td>\n",
       "      <td>-115.197656</td>\n",
       "      <td>3.704930</td>\n",
       "      <td>298.181690</td>\n",
       "      <td>1.0</td>\n",
       "      <td>0.496479</td>\n",
       "      <td>0.500704</td>\n",
       "      <td>0.174648</td>\n",
       "      <td>0.115493</td>\n",
       "      <td>...</td>\n",
       "      <td>0.5</td>\n",
       "      <td>0.500704</td>\n",
       "      <td>0.500704</td>\n",
       "      <td>0.497887</td>\n",
       "      <td>0.499296</td>\n",
       "      <td>0.497887</td>\n",
       "      <td>0.497887</td>\n",
       "      <td>0.499296</td>\n",
       "      <td>0.502113</td>\n",
       "      <td>1.236620</td>\n",
       "    </tr>\n",
       "    <tr>\n",
       "      <td>std</td>\n",
       "      <td>55198.026884</td>\n",
       "      <td>0.053408</td>\n",
       "      <td>0.062516</td>\n",
       "      <td>0.657958</td>\n",
       "      <td>384.157903</td>\n",
       "      <td>0.0</td>\n",
       "      <td>0.041841</td>\n",
       "      <td>0.018765</td>\n",
       "      <td>0.320533</td>\n",
       "      <td>0.246354</td>\n",
       "      <td>...</td>\n",
       "      <td>0.0</td>\n",
       "      <td>0.018765</td>\n",
       "      <td>0.032517</td>\n",
       "      <td>0.032455</td>\n",
       "      <td>0.032517</td>\n",
       "      <td>0.032455</td>\n",
       "      <td>0.032455</td>\n",
       "      <td>0.032517</td>\n",
       "      <td>0.032455</td>\n",
       "      <td>0.441577</td>\n",
       "    </tr>\n",
       "    <tr>\n",
       "      <td>min</td>\n",
       "      <td>145.000000</td>\n",
       "      <td>35.995198</td>\n",
       "      <td>-115.334601</td>\n",
       "      <td>1.500000</td>\n",
       "      <td>3.000000</td>\n",
       "      <td>1.0</td>\n",
       "      <td>0.000000</td>\n",
       "      <td>0.500000</td>\n",
       "      <td>0.000000</td>\n",
       "      <td>0.000000</td>\n",
       "      <td>...</td>\n",
       "      <td>0.5</td>\n",
       "      <td>0.500000</td>\n",
       "      <td>0.000000</td>\n",
       "      <td>0.000000</td>\n",
       "      <td>0.000000</td>\n",
       "      <td>0.000000</td>\n",
       "      <td>0.000000</td>\n",
       "      <td>0.000000</td>\n",
       "      <td>0.500000</td>\n",
       "      <td>1.000000</td>\n",
       "    </tr>\n",
       "    <tr>\n",
       "      <td>25%</td>\n",
       "      <td>50621.000000</td>\n",
       "      <td>36.100515</td>\n",
       "      <td>-115.242993</td>\n",
       "      <td>3.500000</td>\n",
       "      <td>65.250000</td>\n",
       "      <td>1.0</td>\n",
       "      <td>0.500000</td>\n",
       "      <td>0.500000</td>\n",
       "      <td>0.000000</td>\n",
       "      <td>0.000000</td>\n",
       "      <td>...</td>\n",
       "      <td>0.5</td>\n",
       "      <td>0.500000</td>\n",
       "      <td>0.500000</td>\n",
       "      <td>0.500000</td>\n",
       "      <td>0.500000</td>\n",
       "      <td>0.500000</td>\n",
       "      <td>0.500000</td>\n",
       "      <td>0.500000</td>\n",
       "      <td>0.500000</td>\n",
       "      <td>1.000000</td>\n",
       "    </tr>\n",
       "    <tr>\n",
       "      <td>50%</td>\n",
       "      <td>104170.000000</td>\n",
       "      <td>36.125208</td>\n",
       "      <td>-115.197855</td>\n",
       "      <td>4.000000</td>\n",
       "      <td>172.500000</td>\n",
       "      <td>1.0</td>\n",
       "      <td>0.500000</td>\n",
       "      <td>0.500000</td>\n",
       "      <td>0.000000</td>\n",
       "      <td>0.000000</td>\n",
       "      <td>...</td>\n",
       "      <td>0.5</td>\n",
       "      <td>0.500000</td>\n",
       "      <td>0.500000</td>\n",
       "      <td>0.500000</td>\n",
       "      <td>0.500000</td>\n",
       "      <td>0.500000</td>\n",
       "      <td>0.500000</td>\n",
       "      <td>0.500000</td>\n",
       "      <td>0.500000</td>\n",
       "      <td>1.000000</td>\n",
       "    </tr>\n",
       "    <tr>\n",
       "      <td>75%</td>\n",
       "      <td>150273.750000</td>\n",
       "      <td>36.144092</td>\n",
       "      <td>-115.153254</td>\n",
       "      <td>4.000000</td>\n",
       "      <td>398.250000</td>\n",
       "      <td>1.0</td>\n",
       "      <td>0.500000</td>\n",
       "      <td>0.500000</td>\n",
       "      <td>0.500000</td>\n",
       "      <td>0.000000</td>\n",
       "      <td>...</td>\n",
       "      <td>0.5</td>\n",
       "      <td>0.500000</td>\n",
       "      <td>0.500000</td>\n",
       "      <td>0.500000</td>\n",
       "      <td>0.500000</td>\n",
       "      <td>0.500000</td>\n",
       "      <td>0.500000</td>\n",
       "      <td>0.500000</td>\n",
       "      <td>0.500000</td>\n",
       "      <td>1.000000</td>\n",
       "    </tr>\n",
       "    <tr>\n",
       "      <td>max</td>\n",
       "      <td>188497.000000</td>\n",
       "      <td>36.300480</td>\n",
       "      <td>-115.025515</td>\n",
       "      <td>5.000000</td>\n",
       "      <td>3731.000000</td>\n",
       "      <td>1.0</td>\n",
       "      <td>0.500000</td>\n",
       "      <td>1.000000</td>\n",
       "      <td>1.000000</td>\n",
       "      <td>1.000000</td>\n",
       "      <td>...</td>\n",
       "      <td>0.5</td>\n",
       "      <td>1.000000</td>\n",
       "      <td>1.000000</td>\n",
       "      <td>0.500000</td>\n",
       "      <td>1.000000</td>\n",
       "      <td>0.500000</td>\n",
       "      <td>0.500000</td>\n",
       "      <td>1.000000</td>\n",
       "      <td>1.000000</td>\n",
       "      <td>3.000000</td>\n",
       "    </tr>\n",
       "  </tbody>\n",
       "</table>\n",
       "<p>8 rows × 54 columns</p>\n",
       "</div>"
      ],
      "text/plain": [
       "          Unnamed: 0    latitude   longitude       stars  review_count  \\\n",
       "count     710.000000  710.000000  710.000000  710.000000    710.000000   \n",
       "mean   100284.973239   36.122102 -115.197656    3.704930    298.181690   \n",
       "std     55198.026884    0.053408    0.062516    0.657958    384.157903   \n",
       "min       145.000000   35.995198 -115.334601    1.500000      3.000000   \n",
       "25%     50621.000000   36.100515 -115.242993    3.500000     65.250000   \n",
       "50%    104170.000000   36.125208 -115.197855    4.000000    172.500000   \n",
       "75%    150273.750000   36.144092 -115.153254    4.000000    398.250000   \n",
       "max    188497.000000   36.300480 -115.025515    5.000000   3731.000000   \n",
       "\n",
       "       is_open  BusinessAcceptsCreditCards  BusinessParking_garage  \\\n",
       "count    710.0                  710.000000              710.000000   \n",
       "mean       1.0                    0.496479                0.500704   \n",
       "std        0.0                    0.041841                0.018765   \n",
       "min        1.0                    0.000000                0.500000   \n",
       "25%        1.0                    0.500000                0.500000   \n",
       "50%        1.0                    0.500000                0.500000   \n",
       "75%        1.0                    0.500000                0.500000   \n",
       "max        1.0                    0.500000                1.000000   \n",
       "\n",
       "       BusinessParking_street  BusinessParking_validated  ...  Open24Hours  \\\n",
       "count              710.000000                 710.000000  ...        710.0   \n",
       "mean                 0.174648                   0.115493  ...          0.5   \n",
       "std                  0.320533                   0.246354  ...          0.0   \n",
       "min                  0.000000                   0.000000  ...          0.5   \n",
       "25%                  0.000000                   0.000000  ...          0.5   \n",
       "50%                  0.000000                   0.000000  ...          0.5   \n",
       "75%                  0.500000                   0.000000  ...          0.5   \n",
       "max                  1.000000                   1.000000  ...          0.5   \n",
       "\n",
       "             BYOB  DietaryRestrictions_gluten-free  DietaryRestrictions_vegan  \\\n",
       "count  710.000000                       710.000000                 710.000000   \n",
       "mean     0.500704                         0.500704                   0.497887   \n",
       "std      0.018765                         0.032517                   0.032455   \n",
       "min      0.500000                         0.000000                   0.000000   \n",
       "25%      0.500000                         0.500000                   0.500000   \n",
       "50%      0.500000                         0.500000                   0.500000   \n",
       "75%      0.500000                         0.500000                   0.500000   \n",
       "max      1.000000                         1.000000                   0.500000   \n",
       "\n",
       "       DietaryRestrictions_kosher  DietaryRestrictions_halal  \\\n",
       "count                  710.000000                 710.000000   \n",
       "mean                     0.499296                   0.497887   \n",
       "std                      0.032517                   0.032455   \n",
       "min                      0.000000                   0.000000   \n",
       "25%                      0.500000                   0.500000   \n",
       "50%                      0.500000                   0.500000   \n",
       "75%                      0.500000                   0.500000   \n",
       "max                      1.000000                   0.500000   \n",
       "\n",
       "       DietaryRestrictions_soy-free  DietaryRestrictions_vegetarian  \\\n",
       "count                    710.000000                      710.000000   \n",
       "mean                       0.497887                        0.499296   \n",
       "std                        0.032455                        0.032517   \n",
       "min                        0.000000                        0.000000   \n",
       "25%                        0.500000                        0.500000   \n",
       "50%                        0.500000                        0.500000   \n",
       "75%                        0.500000                        0.500000   \n",
       "max                        0.500000                        1.000000   \n",
       "\n",
       "       AgesAllowed       class  \n",
       "count   710.000000  710.000000  \n",
       "mean      0.502113    1.236620  \n",
       "std       0.032455    0.441577  \n",
       "min       0.500000    1.000000  \n",
       "25%       0.500000    1.000000  \n",
       "50%       0.500000    1.000000  \n",
       "75%       0.500000    1.000000  \n",
       "max       1.000000    3.000000  \n",
       "\n",
       "[8 rows x 54 columns]"
      ]
     },
     "execution_count": 17,
     "metadata": {},
     "output_type": "execute_result"
    }
   ],
   "source": [
    "with_features[with_features['asian']==True].describe()"
   ]
  },
  {
   "cell_type": "code",
   "execution_count": 18,
   "metadata": {
    "colab": {},
    "colab_type": "code",
    "id": "Gf62UOTSXwAf"
   },
   "outputs": [],
   "source": [
    "#with_features[with_features['european']==True].describe()\n",
    "#with_features[with_features['namerica']==True].describe()\n",
    "#with_features[with_features['samerica']==True].describe()"
   ]
  },
  {
   "cell_type": "code",
   "execution_count": 19,
   "metadata": {
    "colab": {
     "base_uri": "https://localhost:8080/",
     "height": 33
    },
    "colab_type": "code",
    "executionInfo": {
     "elapsed": 32986,
     "status": "ok",
     "timestamp": 1575754948830,
     "user": {
      "displayName": "Emmy Phung",
      "photoUrl": "https://lh3.googleusercontent.com/a-/AAuE7mB0XMWxbfbNKbYDfXLX0_DPwLUNj1CQ0JzU4Gcd=s64",
      "userId": "15191778731511742618"
     },
     "user_tz": 300
    },
    "id": "oOSL4XAYh94N",
    "outputId": "5b87e659-04a8-4489-8146-3519f3597154"
   },
   "outputs": [
    {
     "name": "stdout",
     "output_type": "stream",
     "text": [
      "387\n"
     ]
    }
   ],
   "source": [
    "# business_df['categories'].head()\n",
    "categories_df = with_features['categories'].str.split(',', expand = True)\n",
    "cat_ls = categories_df.values.flatten()\n",
    "cat_ls = list(filter(None, cat_ls)) \n",
    "cat_ls = np.unique(cat_ls)\n",
    "\n",
    "# # clean the words\n",
    "# leading whitespace \n",
    "cat_ls = [s.strip() for s in cat_ls] \n",
    "cat_ls = np.unique(cat_ls)\n",
    "print(len(cat_ls))"
   ]
  },
  {
   "cell_type": "code",
   "execution_count": 20,
   "metadata": {
    "colab": {
     "base_uri": "https://localhost:8080/",
     "height": 33
    },
    "colab_type": "code",
    "executionInfo": {
     "elapsed": 32978,
     "status": "ok",
     "timestamp": 1575754948831,
     "user": {
      "displayName": "Emmy Phung",
      "photoUrl": "https://lh3.googleusercontent.com/a-/AAuE7mB0XMWxbfbNKbYDfXLX0_DPwLUNj1CQ0JzU4Gcd=s64",
      "userId": "15191778731511742618"
     },
     "user_tz": 300
    },
    "id": "_SABg-jqjmtO",
    "outputId": "c34dc1f4-5c01-448f-bbf8-c185efc87ce7"
   },
   "outputs": [
    {
     "name": "stdout",
     "output_type": "stream",
     "text": [
      "351\n"
     ]
    }
   ],
   "source": [
    "#Remove the cuisine names from features\n",
    "cuisine_list = other.split('|')\n",
    "cuisine_list = [i.title() for i in cuisine_list ]\n",
    "cat_ls = [i for i in cat_ls if i not in cuisine_list]\n",
    "print(len(cat_ls))"
   ]
  },
  {
   "cell_type": "code",
   "execution_count": 21,
   "metadata": {
    "colab": {
     "base_uri": "https://localhost:8080/",
     "height": 33
    },
    "colab_type": "code",
    "executionInfo": {
     "elapsed": 33187,
     "status": "ok",
     "timestamp": 1575754949049,
     "user": {
      "displayName": "Emmy Phung",
      "photoUrl": "https://lh3.googleusercontent.com/a-/AAuE7mB0XMWxbfbNKbYDfXLX0_DPwLUNj1CQ0JzU4Gcd=s64",
      "userId": "15191778731511742618"
     },
     "user_tz": 300
    },
    "id": "pz-uFTuniBUE",
    "outputId": "ac654750-7a1d-4c95-bdee-06812b25b4ec"
   },
   "outputs": [
    {
     "data": {
      "text/plain": [
       "422"
      ]
     },
     "execution_count": 21,
     "metadata": {},
     "output_type": "execute_result"
    }
   ],
   "source": [
    "# make empty columns\n",
    "for i in cat_ls:\n",
    "    with_features[i] = 0\n",
    "\n",
    "len(with_features.columns)"
   ]
  },
  {
   "cell_type": "code",
   "execution_count": 22,
   "metadata": {
    "colab": {
     "base_uri": "https://localhost:8080/",
     "height": 115
    },
    "colab_type": "code",
    "executionInfo": {
     "elapsed": 57989,
     "status": "ok",
     "timestamp": 1575754973860,
     "user": {
      "displayName": "Emmy Phung",
      "photoUrl": "https://lh3.googleusercontent.com/a-/AAuE7mB0XMWxbfbNKbYDfXLX0_DPwLUNj1CQ0JzU4Gcd=s64",
      "userId": "15191778731511742618"
     },
     "user_tz": 300
    },
    "id": "FnJEwLiDiEdO",
    "outputId": "77f760c7-9734-4403-f5b5-0499450c0c9e"
   },
   "outputs": [
    {
     "data": {
      "text/plain": [
       "(3779, 422)"
      ]
     },
     "execution_count": 22,
     "metadata": {},
     "output_type": "execute_result"
    }
   ],
   "source": [
    "# sort by largest categories?\n",
    "cats_df = with_features[with_features.columns[-387:]]\n",
    "\n",
    "for c in range(0,len(cat_ls)):\n",
    "  temp_c=str(cats_df.columns.tolist()[c])\n",
    "\n",
    "  for i in range(len(with_features['categories'])):\n",
    "    if temp_c in str(with_features['categories'].iloc[i]):\n",
    "      with_features[temp_c].iloc[i] = 1\n",
    "\n",
    "with_features.shape"
   ]
  },
  {
   "cell_type": "code",
   "execution_count": 23,
   "metadata": {
    "colab": {
     "base_uri": "https://localhost:8080/",
     "height": 163
    },
    "colab_type": "code",
    "executionInfo": {
     "elapsed": 58560,
     "status": "ok",
     "timestamp": 1575754974441,
     "user": {
      "displayName": "Emmy Phung",
      "photoUrl": "https://lh3.googleusercontent.com/a-/AAuE7mB0XMWxbfbNKbYDfXLX0_DPwLUNj1CQ0JzU4Gcd=s64",
      "userId": "15191778731511742618"
     },
     "user_tz": 300
    },
    "id": "uF2MLA31vawB",
    "outputId": "2e563d39-b99b-4c5a-9798-ede993a87071"
   },
   "outputs": [
    {
     "data": {
      "text/plain": [
       "count    3779.0\n",
       "mean        0.0\n",
       "std         0.0\n",
       "min         0.0\n",
       "25%         0.0\n",
       "50%         0.0\n",
       "75%         0.0\n",
       "max         0.0\n",
       "Name: Vegetarian, dtype: float64"
      ]
     },
     "execution_count": 23,
     "metadata": {},
     "output_type": "execute_result"
    }
   ],
   "source": [
    "vegas_final = with_features.fillna(vegas_clean.mean())\n",
    "vegas_final['Vegetarian'].describe()"
   ]
  },
  {
   "cell_type": "code",
   "execution_count": 24,
   "metadata": {
    "colab": {},
    "colab_type": "code",
    "id": "45qEldZnnHqC"
   },
   "outputs": [],
   "source": [
    "vegas_final= vegas_final.rename(columns ={'Unnamed: 0': 'org_index'})\n",
    "vegas_final= vegas_final.drop(columns =['American (Traditional)', 'American (New)'])"
   ]
  },
  {
   "cell_type": "code",
   "execution_count": 25,
   "metadata": {
    "colab": {
     "base_uri": "https://localhost:8080/",
     "height": 33
    },
    "colab_type": "code",
    "executionInfo": {
     "elapsed": 60180,
     "status": "ok",
     "timestamp": 1575754976082,
     "user": {
      "displayName": "Emmy Phung",
      "photoUrl": "https://lh3.googleusercontent.com/a-/AAuE7mB0XMWxbfbNKbYDfXLX0_DPwLUNj1CQ0JzU4Gcd=s64",
      "userId": "15191778731511742618"
     },
     "user_tz": 300
    },
    "id": "sc0oiGh1kNtT",
    "outputId": "271f0724-fc7d-4ce0-9439-da66560eec8c"
   },
   "outputs": [
    {
     "data": {
      "text/plain": [
       "0.0"
      ]
     },
     "execution_count": 25,
     "metadata": {},
     "output_type": "execute_result"
    }
   ],
   "source": [
    "#Check if there is null value\n",
    "def getDfSummary(input_data):\n",
    "    output_data=input_data.describe() \n",
    "    output_data.loc['number_distinct'] = input_data.nunique() \n",
    "    output_data.loc['number_nan'] = input_data.isna().sum()\n",
    "    output_data=output_data.drop('count', axis=0)\n",
    "    output_data=output_data.T\n",
    "    return output_data\n",
    "\n",
    "getDfSummary(vegas_final)['number_nan'].sum()"
   ]
  },
  {
   "cell_type": "code",
   "execution_count": 26,
   "metadata": {
    "colab": {
     "base_uri": "https://localhost:8080/",
     "height": 281
    },
    "colab_type": "code",
    "executionInfo": {
     "elapsed": 61090,
     "status": "ok",
     "timestamp": 1575754977002,
     "user": {
      "displayName": "Emmy Phung",
      "photoUrl": "https://lh3.googleusercontent.com/a-/AAuE7mB0XMWxbfbNKbYDfXLX0_DPwLUNj1CQ0JzU4Gcd=s64",
      "userId": "15191778731511742618"
     },
     "user_tz": 300
    },
    "id": "C-1HaRIBeExc",
    "outputId": "bab7830f-de7b-4729-e9da-7aa66ecaf780"
   },
   "outputs": [
    {
     "data": {
      "text/plain": [
       "(0, 500)"
      ]
     },
     "execution_count": 26,
     "metadata": {},
     "output_type": "execute_result"
    },
    {
     "data": {
      "image/png": "[encoded data removed]",
      "text/plain": [
       "<Figure size 432x288 with 1 Axes>"
      ]
     },
     "metadata": {
      "needs_background": "light"
     },
     "output_type": "display_data"
    }
   ],
   "source": [
    "vegas_final['review_count'].hist(bins=400)\n",
    "\n",
    "plt.xlim(0,500)"
   ]
  },
  {
   "cell_type": "code",
   "execution_count": 27,
   "metadata": {
    "colab": {
     "base_uri": "https://localhost:8080/",
     "height": 285
    },
    "colab_type": "code",
    "executionInfo": {
     "elapsed": 61495,
     "status": "ok",
     "timestamp": 1575754977416,
     "user": {
      "displayName": "Emmy Phung",
      "photoUrl": "https://lh3.googleusercontent.com/a-/AAuE7mB0XMWxbfbNKbYDfXLX0_DPwLUNj1CQ0JzU4Gcd=s64",
      "userId": "15191778731511742618"
     },
     "user_tz": 300
    },
    "id": "xZNHKPVMgmNS",
    "outputId": "7d6e2334-6387-4815-f083-1b825de1df07"
   },
   "outputs": [
    {
     "data": {
      "text/plain": [
       "<matplotlib.axes._subplots.AxesSubplot at 0x12a324940>"
      ]
     },
     "execution_count": 27,
     "metadata": {},
     "output_type": "execute_result"
    },
    {
     "data": {
      "image/png": "[encoded data removed]",
      "text/plain": [
       "<Figure size 432x288 with 1 Axes>"
      ]
     },
     "metadata": {
      "needs_background": "light"
     },
     "output_type": "display_data"
    }
   ],
   "source": [
    "vegas_final['stars'].hist(bins=10)"
   ]
  },
  {
   "cell_type": "code",
   "execution_count": 28,
   "metadata": {
    "colab": {
     "base_uri": "https://localhost:8080/",
     "height": 98
    },
    "colab_type": "code",
    "executionInfo": {
     "elapsed": 61485,
     "status": "ok",
     "timestamp": 1575754977416,
     "user": {
      "displayName": "Emmy Phung",
      "photoUrl": "https://lh3.googleusercontent.com/a-/AAuE7mB0XMWxbfbNKbYDfXLX0_DPwLUNj1CQ0JzU4Gcd=s64",
      "userId": "15191778731511742618"
     },
     "user_tz": 300
    },
    "id": "N7dVX0sjo3KC",
    "outputId": "ac026612-b99a-45de-9f00-262554eb081c"
   },
   "outputs": [],
   "source": [
    "#Create our target variable, named 'Sucess', Y = 1 if success, and = 0 otherwise\n",
    "vegas_final['success'] = 0\n",
    "success_list = vegas_final[(vegas_final['review_count']>100) & (vegas_final['stars']>4)].index.tolist()\n",
    "vegas_final['success'][success_list] = 1"
   ]
  },
  {
   "cell_type": "markdown",
   "metadata": {
    "colab_type": "text",
    "id": "TpPvNK_TiqEp"
   },
   "source": [
    "**EDA by cuisines**\n"
   ]
  },
  {
   "cell_type": "code",
   "execution_count": 29,
   "metadata": {
    "colab": {
     "base_uri": "https://localhost:8080/",
     "height": 163
    },
    "colab_type": "code",
    "executionInfo": {
     "elapsed": 62499,
     "status": "ok",
     "timestamp": 1575754978439,
     "user": {
      "displayName": "Emmy Phung",
      "photoUrl": "https://lh3.googleusercontent.com/a-/AAuE7mB0XMWxbfbNKbYDfXLX0_DPwLUNj1CQ0JzU4Gcd=s64",
      "userId": "15191778731511742618"
     },
     "user_tz": 300
    },
    "id": "ItK3_oD4om8U",
    "outputId": "32565381-dcd0-4e81-ade3-ad8aa7e61856"
   },
   "outputs": [
    {
     "data": {
      "text/plain": [
       "count    3779.0\n",
       "mean        0.0\n",
       "std         0.0\n",
       "min         0.0\n",
       "25%         0.0\n",
       "50%         0.0\n",
       "75%         0.0\n",
       "max         0.0\n",
       "Name: Vegan, dtype: float64"
      ]
     },
     "execution_count": 29,
     "metadata": {},
     "output_type": "execute_result"
    }
   ],
   "source": [
    "vegas_final.describe()\n",
    "vegas_final['Vegan'].describe()"
   ]
  },
  {
   "cell_type": "code",
   "execution_count": 30,
   "metadata": {
    "colab": {
     "base_uri": "https://localhost:8080/",
     "height": 160
    },
    "colab_type": "code",
    "executionInfo": {
     "elapsed": 62489,
     "status": "ok",
     "timestamp": 1575754978440,
     "user": {
      "displayName": "Emmy Phung",
      "photoUrl": "https://lh3.googleusercontent.com/a-/AAuE7mB0XMWxbfbNKbYDfXLX0_DPwLUNj1CQ0JzU4Gcd=s64",
      "userId": "15191778731511742618"
     },
     "user_tz": 300
    },
    "id": "_Ozlkscwijfq",
    "outputId": "8cf46089-8b92-429c-ed13-f61fcd3a75e3"
   },
   "outputs": [
    {
     "data": {
      "text/html": [
       "<div>\n",
       "<style scoped>\n",
       "    .dataframe tbody tr th:only-of-type {\n",
       "        vertical-align: middle;\n",
       "    }\n",
       "\n",
       "    .dataframe tbody tr th {\n",
       "        vertical-align: top;\n",
       "    }\n",
       "\n",
       "    .dataframe thead th {\n",
       "        text-align: right;\n",
       "    }\n",
       "</style>\n",
       "<table border=\"1\" class=\"dataframe\">\n",
       "  <thead>\n",
       "    <tr style=\"text-align: right;\">\n",
       "      <th></th>\n",
       "      <th>org_index</th>\n",
       "      <th>business_id</th>\n",
       "      <th>name</th>\n",
       "      <th>neighborhood</th>\n",
       "      <th>address</th>\n",
       "      <th>city</th>\n",
       "      <th>state</th>\n",
       "      <th>postal_code</th>\n",
       "      <th>latitude</th>\n",
       "      <th>longitude</th>\n",
       "      <th>...</th>\n",
       "      <th>Wholesale Stores</th>\n",
       "      <th>Wholesalers</th>\n",
       "      <th>Windshield Installation &amp; Repair</th>\n",
       "      <th>Wine &amp; Spirits</th>\n",
       "      <th>Wine Bars</th>\n",
       "      <th>Wineries</th>\n",
       "      <th>Women's Clothing</th>\n",
       "      <th>Yelp Events</th>\n",
       "      <th>Yoga</th>\n",
       "      <th>success</th>\n",
       "    </tr>\n",
       "  </thead>\n",
       "  <tbody>\n",
       "  </tbody>\n",
       "</table>\n",
       "<p>0 rows × 421 columns</p>\n",
       "</div>"
      ],
      "text/plain": [
       "Empty DataFrame\n",
       "Columns: [org_index, business_id, name, neighborhood, address, city, state, postal_code, latitude, longitude, stars, review_count, is_open, categories, hours, BusinessAcceptsCreditCards, BusinessParking_garage, BusinessParking_street, BusinessParking_validated, BusinessParking_lot, BusinessParking_valet, GoodForKids, WheelchairAccessible, BikeParking, Alcohol, HasTV, NoiseLevel, RestaurantsAttire, Music_dj, Caters, WiFi, RestaurantsReservations, RestaurantsTakeOut, HappyHour, GoodForDancing, RestaurantsTableService, OutdoorSeating, RestaurantsDelivery, BestNights_monday, BestNights_tuesday, BestNights_friday, BestNights_wednesday, BestNights_thursday, BestNights_sunday, BestNights_saturday, GoodForMeal_dessert, GoodForMeal_latenight, GoodForMeal_lunch, GoodForMeal_dinner, GoodForMeal_breakfast, GoodForMeal_brunch, CoatCheck, Smoking, DriveThru, DogsAllowed, BusinessAcceptsBitcoin, Open24Hours, BYOB, DietaryRestrictions_gluten-free, DietaryRestrictions_vegan, DietaryRestrictions_kosher, DietaryRestrictions_halal, DietaryRestrictions_soy-free, DietaryRestrictions_vegetarian, AgesAllowed, asian, european, namerica, samerica, other, class, Acai Bowls, Active Life, Acupuncture, Adult Entertainment, Afghan, African, Air Duct Cleaning, Aircraft Repairs, Airport Shuttles, Airport Terminals, Airports, Airsoft, Amusement Parks, Antiques, Appliances, Appliances & Repair, Aquarium Services, Aquariums, Arabian, Arcades, Argentine, Armenian, Art Galleries, Arts & Entertainment, Asian Fusion, Audio/Visual Equipment Rental, Auto Customization, Auto Glass Services, Auto Insurance, ...]\n",
       "Index: []\n",
       "\n",
       "[0 rows x 421 columns]"
      ]
     },
     "execution_count": 30,
     "metadata": {},
     "output_type": "execute_result"
    }
   ],
   "source": [
    "vegas_final[vegas_final['Vegan']==1]"
   ]
  },
  {
   "cell_type": "code",
   "execution_count": 31,
   "metadata": {
    "colab": {},
    "colab_type": "code",
    "id": "N-z1mtNdqNml"
   },
   "outputs": [],
   "source": [
    "#Plot to compare the restaurants that have highest ratings (and total review counts) vs. lowest ones for each cuisine\n",
    "#Introduce the interaction term, 'total_stars' = 'review_count'*'stars'\n",
    "\n",
    "asian_df = vegas_final[vegas_final['asian']==True]\n",
    "european_df = vegas_final[vegas_final['european']==True]\n",
    "namerica_df = vegas_final[vegas_final['namerica']==True]\n",
    "samerica_df = vegas_final[vegas_final['samerica']==True]\n",
    "other_df = vegas_final[vegas_final['other']==True]\n",
    "\n",
    "def plot_totalstars (data):\n",
    "  fig,ax = plt.subplots(figsize =[6,6])\n",
    "  data['total_stars'] = data['stars']*data['review_count']\n",
    "  highstar = data[data['success']==1].sort_values(['total_stars'],ascending=False)\n",
    "  x = highstar['total_stars'].head(10)\n",
    "  y = highstar['name'].head(10)\n",
    "  plt.scatter(x,y)"
   ]
  },
  {
   "cell_type": "code",
   "execution_count": 32,
   "metadata": {
    "colab": {
     "base_uri": "https://localhost:8080/",
     "height": 1000
    },
    "colab_type": "code",
    "executionInfo": {
     "elapsed": 63762,
     "status": "ok",
     "timestamp": 1575754979725,
     "user": {
      "displayName": "Emmy Phung",
      "photoUrl": "https://lh3.googleusercontent.com/a-/AAuE7mB0XMWxbfbNKbYDfXLX0_DPwLUNj1CQ0JzU4Gcd=s64",
      "userId": "15191778731511742618"
     },
     "user_tz": 300
    },
    "id": "9WZPEaZuxjW-",
    "outputId": "da316caf-1b9e-41f9-a376-e0375f3baad5"
   },
   "outputs": [
    {
     "data": {
      "text/plain": [
       "Text(0.5, 1.0, 'Top 10 Un-classified Restaurants')"
      ]
     },
     "execution_count": 32,
     "metadata": {},
     "output_type": "execute_result"
    },
    {
     "data": {
      "text/plain": [
       "<Figure size 432x288 with 0 Axes>"
      ]
     },
     "metadata": {},
     "output_type": "display_data"
    },
    {
     "data": {
      "image/png": "[encoded data removed]",
      "text/plain": [
       "<Figure size 432x432 with 1 Axes>"
      ]
     },
     "metadata": {
      "needs_background": "light"
     },
     "output_type": "display_data"
    },
    {
     "data": {
      "image/png": "[encoded data removed]",
      "text/plain": [
       "<Figure size 432x432 with 1 Axes>"
      ]
     },
     "metadata": {
      "needs_background": "light"
     },
     "output_type": "display_data"
    },
    {
     "data": {
      "image/png": "[encoded data removed]",
      "text/plain": [
       "<Figure size 432x432 with 1 Axes>"
      ]
     },
     "metadata": {
      "needs_background": "light"
     },
     "output_type": "display_data"
    },
    {
     "data": {
      "image/png": "[encoded data removed]",
      "text/plain": [
       "<Figure size 432x432 with 1 Axes>"
      ]
     },
     "metadata": {
      "needs_background": "light"
     },
     "output_type": "display_data"
    },
    {
     "data": {
      "image/png": "[encoded data removed]",
      "text/plain": [
       "<Figure size 432x432 with 1 Axes>"
      ]
     },
     "metadata": {
      "needs_background": "light"
     },
     "output_type": "display_data"
    }
   ],
   "source": [
    "plt.figure(1)\n",
    "plot_totalstars(asian_df)\n",
    "plt.title('Top 10 Asian Restaurants')\n",
    "\n",
    "plt.figure(2)\n",
    "plot_totalstars(european_df)\n",
    "plt.title('Top 10 European Restaurants')\n",
    "\n",
    "plt.figure(3)\n",
    "plot_totalstars(namerica_df)\n",
    "plt.title('Top 10 North American Restaurants')\n",
    "\n",
    "plt.figure(4)\n",
    "plot_totalstars(samerica_df)\n",
    "plt.title('Top 10 South American Restaurants')\n",
    "\n",
    "plt.figure(5)\n",
    "plot_totalstars(other_df)\n",
    "plt.title('Top 10 Un-classified Restaurants')"
   ]
  },
  {
   "cell_type": "code",
   "execution_count": 33,
   "metadata": {
    "colab": {},
    "colab_type": "code",
    "id": "TMWo5aItsfpq"
   },
   "outputs": [],
   "source": [
    "# lowstar = vegas_final[vegas_final['success']==0].sort_values(['total_stars'],ascending=True)\n",
    "# y2 = lowstar['stars'].head(15)\n",
    "# x2 = lowstar['name'].head(15)\n",
    "# plt.scatter(y2,x2)"
   ]
  },
  {
   "cell_type": "code",
   "execution_count": 34,
   "metadata": {
    "colab": {
     "base_uri": "https://localhost:8080/",
     "height": 336
    },
    "colab_type": "code",
    "executionInfo": {
     "elapsed": 64425,
     "status": "ok",
     "timestamp": 1575754980406,
     "user": {
      "displayName": "Emmy Phung",
      "photoUrl": "https://lh3.googleusercontent.com/a-/AAuE7mB0XMWxbfbNKbYDfXLX0_DPwLUNj1CQ0JzU4Gcd=s64",
      "userId": "15191778731511742618"
     },
     "user_tz": 300
    },
    "id": "m4wtpelKNy1p",
    "outputId": "20154f61-f2c6-482d-8e17-5b469374a948"
   },
   "outputs": [
    {
     "data": {
      "text/plain": [
       "<matplotlib.collections.PathCollection at 0x125192b00>"
      ]
     },
     "execution_count": 34,
     "metadata": {},
     "output_type": "execute_result"
    },
    {
     "data": {
      "image/png": "[encoded data removed]",
      "text/plain": [
       "<Figure size 1440x360 with 1 Axes>"
      ]
     },
     "metadata": {
      "needs_background": "light"
     },
     "output_type": "display_data"
    }
   ],
   "source": [
    "#Plot reviews and stars\n",
    "fig,ax = plt.subplots(figsize =[20,5])\n",
    "\n",
    "xA_stars, yA_reviews = vegas_final[vegas_final['asian']==True]['stars'].values, vegas_final[vegas_final['asian']==True]['review_count'].values\n",
    "xE_stars, yE_reviews = vegas_final[vegas_final['european']==True]['stars'].values, vegas_final[vegas_final['european']==True]['review_count'].values\n",
    "xNA_stars,yNA_reviews = vegas_final[vegas_final['namerica']==True]['stars'].values, vegas_final[vegas_final['namerica']==True]['review_count'].values\n",
    "xSA_stars, ySA_reviews = vegas_final[vegas_final['samerica']==True]['stars'].values,vegas_final[vegas_final['samerica']==True]['review_count'].values\n",
    "xO_stars,yO_reviews = vegas_final[vegas_final['other']==True]['stars'].values, vegas_final[vegas_final['other']==True]['review_count'].values\n",
    "\n",
    "\n",
    "plt.scatter(yE_reviews,xE_stars, marker='^',color = 'b')\n",
    "plt.scatter(yNA_reviews,xNA_stars, marker='>',color = 'g')\n",
    "plt.scatter(ySA_reviews,xSA_stars, marker='<',color = 'm')\n",
    "plt.scatter(yA_reviews, xA_stars,color = 'r')\n",
    "\n",
    "# plt.bar(yE_reviews,xE_stars,color = 'b')\n",
    "# plt.bar(yNA_reviews,xNA_stars,color = 'g')\n",
    "# plt.bar(ySA_reviews,xSA_stars,color = 'm')\n",
    "# plt.bar(yA_reviews, xA_stars,color = 'r')\n",
    "\n",
    "# for i, txt in enumerate(z_name):\n",
    "#   if (y_reviews.iloc[i]>2500 and x_stars.iloc[i]>=4.0):\n",
    "#     plt.annotate(txt, (y_reviews.iloc[i], x_stars.iloc[i]),xytext=(-5, 10), textcoords='offset points',ha = 'left',va='bottom', rotation=45 )"
   ]
  },
  {
   "cell_type": "code",
   "execution_count": 35,
   "metadata": {
    "colab": {
     "base_uri": "https://localhost:8080/",
     "height": 1000
    },
    "colab_type": "code",
    "executionInfo": {
     "elapsed": 1039,
     "status": "ok",
     "timestamp": 1575755114137,
     "user": {
      "displayName": "Emmy Phung",
      "photoUrl": "https://lh3.googleusercontent.com/a-/AAuE7mB0XMWxbfbNKbYDfXLX0_DPwLUNj1CQ0JzU4Gcd=s64",
      "userId": "15191778731511742618"
     },
     "user_tz": 300
    },
    "id": "ab12yuR30zCz",
    "outputId": "61a4c979-5cfd-4831-96ad-f1cb05371070"
   },
   "outputs": [
    {
     "data": {
      "text/plain": [
       "Text(0.5, 1.0, 'Number of restaurants grouped by cuisine')"
      ]
     },
     "execution_count": 35,
     "metadata": {},
     "output_type": "execute_result"
    },
    {
     "data": {
      "image/png": "[encoded data removed]",
      "text/plain": [
       "<Figure size 432x288 with 1 Axes>"
      ]
     },
     "metadata": {
      "needs_background": "light"
     },
     "output_type": "display_data"
    },
    {
     "data": {
      "image/png": "[encoded data removed]",
      "text/plain": [
       "<Figure size 432x288 with 1 Axes>"
      ]
     },
     "metadata": {
      "needs_background": "light"
     },
     "output_type": "display_data"
    },
    {
     "data": {
      "image/png": "[encoded data removed]",
      "text/plain": [
       "<Figure size 432x288 with 1 Axes>"
      ]
     },
     "metadata": {
      "needs_background": "light"
     },
     "output_type": "display_data"
    },
    {
     "data": {
      "image/png": "[encoded data removed]",
      "text/plain": [
       "<Figure size 432x288 with 1 Axes>"
      ]
     },
     "metadata": {
      "needs_background": "light"
     },
     "output_type": "display_data"
    }
   ],
   "source": [
    "plt.figure(1)\n",
    "x = ['european','namerica','samerica','asian']\n",
    "y = [yE_reviews.mean(), yNA_reviews.mean(),ySA_reviews.mean(),yA_reviews.mean()]\n",
    "plt.bar(x,y)\n",
    "\n",
    "\n",
    "plt.figure(2)\n",
    "y2 = [yE_reviews.max(), yNA_reviews.max(),ySA_reviews.max(),yA_reviews.max()]\n",
    "plt.bar(x,y2)\n",
    "\n",
    "\n",
    "plt.figure(3)\n",
    "y3 = [xE_stars.mean(), xNA_stars.mean(), xSA_stars.mean(), xA_stars.mean()]\n",
    "plt.bar(x,y3)\n",
    "\n",
    "\n",
    "plt.figure(4)\n",
    "x = ['European','South America','Asian','North America','Others']\n",
    "y4 = [len(yE_reviews),len(ySA_reviews),len(yA_reviews),len(yNA_reviews), len(yO_reviews)]\n",
    "plt.bar(x,y4)\n",
    "plt.title('Number of restaurants grouped by cuisine')"
   ]
  },
  {
   "cell_type": "code",
   "execution_count": 36,
   "metadata": {
    "colab": {
     "base_uri": "https://localhost:8080/",
     "height": 281
    },
    "colab_type": "code",
    "executionInfo": {
     "elapsed": 691,
     "status": "ok",
     "timestamp": 1575755834247,
     "user": {
      "displayName": "Emmy Phung",
      "photoUrl": "https://lh3.googleusercontent.com/a-/AAuE7mB0XMWxbfbNKbYDfXLX0_DPwLUNj1CQ0JzU4Gcd=s64",
      "userId": "15191778731511742618"
     },
     "user_tz": 300
    },
    "id": "uVMOalBsRzzc",
    "outputId": "5b70736f-c6fe-4f32-9303-91df5913a5de"
   },
   "outputs": [
    {
     "data": {
      "image/png": "[encoded data removed]",
      "text/plain": [
       "<Figure size 432x288 with 2 Axes>"
      ]
     },
     "metadata": {
      "needs_background": "light"
     },
     "output_type": "display_data"
    }
   ],
   "source": [
    "x = ['European','South America','Asian','North America']\n",
    "df = pd.DataFrame([x,y,y3]).T\n",
    "\n",
    "df[1].plot(kind ='bar',color ='c')\n",
    "plt.ylabel('Number of reviews')\n",
    "df[2].plot(secondary_y=True)\n",
    "plt.ylabel('Average rating')\n",
    "# plt.title('Restaurants grouped by cuisine')\n",
    "plt.xticks(np.arange(4), x)\n",
    "plt.title('Average rating and review counts by cuisine')\n",
    "\n",
    "plt.show()"
   ]
  },
  {
   "cell_type": "code",
   "execution_count": 37,
   "metadata": {
    "colab": {
     "base_uri": "https://localhost:8080/",
     "height": 585
    },
    "colab_type": "code",
    "executionInfo": {
     "elapsed": 608,
     "status": "ok",
     "timestamp": 1575754997213,
     "user": {
      "displayName": "Emmy Phung",
      "photoUrl": "https://lh3.googleusercontent.com/a-/AAuE7mB0XMWxbfbNKbYDfXLX0_DPwLUNj1CQ0JzU4Gcd=s64",
      "userId": "15191778731511742618"
     },
     "user_tz": 300
    },
    "id": "ZrlFhuF_NVa_",
    "outputId": "6c25bf31-7253-4edc-8429-b3606467adfd"
   },
   "outputs": [
    {
     "data": {
      "text/plain": [
       "<BarContainer object of 5 artists>"
      ]
     },
     "execution_count": 37,
     "metadata": {},
     "output_type": "execute_result"
    },
    {
     "data": {
      "image/png": "[encoded data removed]",
      "text/plain": [
       "<Figure size 360x360 with 1 Axes>"
      ]
     },
     "metadata": {
      "needs_background": "light"
     },
     "output_type": "display_data"
    },
    {
     "data": {
      "image/png": "[encoded data removed]",
      "text/plain": [
       "<Figure size 432x288 with 1 Axes>"
      ]
     },
     "metadata": {
      "needs_background": "light"
     },
     "output_type": "display_data"
    }
   ],
   "source": [
    "#Compare average stars and reviews per cuisine group\n",
    "fig = plt.subplots(figsize =[5,5])\n",
    "\n",
    "x = [xA_stars.mean(), xE_stars.mean(),xNA_stars.mean(), xSA_stars.mean(), xO_stars.mean()]\n",
    "y = [yA_reviews.mean(),yE_reviews.mean(), yNA_reviews.mean(), ySA_reviews.mean(), yO_reviews.mean()]\n",
    "z = ['A','E','NA','SA','O']\n",
    "plt.figure(1)\n",
    "plt.bar(z,x)\n",
    "plt.figure(2)\n",
    "plt.bar(z,y)"
   ]
  },
  {
   "cell_type": "code",
   "execution_count": 38,
   "metadata": {
    "colab": {},
    "colab_type": "code",
    "id": "bC_ENJGN_f2j"
   },
   "outputs": [],
   "source": [
    "vegas_final.replace(0.5, 0, inplace=True)\n",
    "\n",
    "#Export clean data to csv\n",
    "vegas_final.to_csv('/Users/lisacombs/Documents/FALL2019/INTRO_DS/Project/clean_data/vegas_cuisine.csv')"
   ]
  },
  {
   "cell_type": "code",
   "execution_count": 39,
   "metadata": {
    "colab": {},
    "colab_type": "code",
    "id": "dqjcHP46ScdM"
   },
   "outputs": [
    {
     "data": {
      "text/html": [
       "<div>\n",
       "<style scoped>\n",
       "    .dataframe tbody tr th:only-of-type {\n",
       "        vertical-align: middle;\n",
       "    }\n",
       "\n",
       "    .dataframe tbody tr th {\n",
       "        vertical-align: top;\n",
       "    }\n",
       "\n",
       "    .dataframe thead th {\n",
       "        text-align: right;\n",
       "    }\n",
       "</style>\n",
       "<table border=\"1\" class=\"dataframe\">\n",
       "  <thead>\n",
       "    <tr style=\"text-align: right;\">\n",
       "      <th></th>\n",
       "      <th>org_index</th>\n",
       "      <th>business_id</th>\n",
       "      <th>name</th>\n",
       "      <th>neighborhood</th>\n",
       "      <th>address</th>\n",
       "      <th>city</th>\n",
       "      <th>state</th>\n",
       "      <th>postal_code</th>\n",
       "      <th>latitude</th>\n",
       "      <th>longitude</th>\n",
       "      <th>...</th>\n",
       "      <th>Wholesale Stores</th>\n",
       "      <th>Wholesalers</th>\n",
       "      <th>Windshield Installation &amp; Repair</th>\n",
       "      <th>Wine &amp; Spirits</th>\n",
       "      <th>Wine Bars</th>\n",
       "      <th>Wineries</th>\n",
       "      <th>Women's Clothing</th>\n",
       "      <th>Yelp Events</th>\n",
       "      <th>Yoga</th>\n",
       "      <th>success</th>\n",
       "    </tr>\n",
       "  </thead>\n",
       "  <tbody>\n",
       "    <tr>\n",
       "      <td>8</td>\n",
       "      <td>32</td>\n",
       "      <td>kgffcoxT6BQp-gJ-UQ7Czw</td>\n",
       "      <td>Subway</td>\n",
       "      <td>Summerlin</td>\n",
       "      <td>2255 N Rampart Blvd</td>\n",
       "      <td>Las Vegas</td>\n",
       "      <td>NV</td>\n",
       "      <td>89128</td>\n",
       "      <td>36.201794</td>\n",
       "      <td>-115.281981</td>\n",
       "      <td>...</td>\n",
       "      <td>0</td>\n",
       "      <td>0</td>\n",
       "      <td>0</td>\n",
       "      <td>0</td>\n",
       "      <td>0</td>\n",
       "      <td>0</td>\n",
       "      <td>0</td>\n",
       "      <td>0</td>\n",
       "      <td>0</td>\n",
       "      <td>0</td>\n",
       "    </tr>\n",
       "    <tr>\n",
       "      <td>9</td>\n",
       "      <td>33</td>\n",
       "      <td>0jtRI7hVMpQHpUVtUy4ITw</td>\n",
       "      <td>Omelet House Summerlin</td>\n",
       "      <td>Summerlin</td>\n",
       "      <td>2227 N Rampart Blvd</td>\n",
       "      <td>Las Vegas</td>\n",
       "      <td>NV</td>\n",
       "      <td>89128</td>\n",
       "      <td>36.201990</td>\n",
       "      <td>-115.283122</td>\n",
       "      <td>...</td>\n",
       "      <td>0</td>\n",
       "      <td>0</td>\n",
       "      <td>0</td>\n",
       "      <td>0</td>\n",
       "      <td>0</td>\n",
       "      <td>0</td>\n",
       "      <td>0</td>\n",
       "      <td>0</td>\n",
       "      <td>0</td>\n",
       "      <td>0</td>\n",
       "    </tr>\n",
       "    <tr>\n",
       "      <td>32</td>\n",
       "      <td>141</td>\n",
       "      <td>zhxnD7J5_sCrKSw5cwI9dQ</td>\n",
       "      <td>Popeyes Louisiana Kitchen</td>\n",
       "      <td>Sunrise</td>\n",
       "      <td>4505 E Bonanza Rd</td>\n",
       "      <td>Las Vegas</td>\n",
       "      <td>NV</td>\n",
       "      <td>89110</td>\n",
       "      <td>36.173140</td>\n",
       "      <td>-115.077945</td>\n",
       "      <td>...</td>\n",
       "      <td>0</td>\n",
       "      <td>0</td>\n",
       "      <td>0</td>\n",
       "      <td>0</td>\n",
       "      <td>0</td>\n",
       "      <td>0</td>\n",
       "      <td>0</td>\n",
       "      <td>0</td>\n",
       "      <td>0</td>\n",
       "      <td>0</td>\n",
       "    </tr>\n",
       "    <tr>\n",
       "      <td>34</td>\n",
       "      <td>143</td>\n",
       "      <td>2kWrSFkIes_d2BMg4YrRtA</td>\n",
       "      <td>Pizza Hut</td>\n",
       "      <td>Sunrise</td>\n",
       "      <td>560 N. Nellis Blvd, Ste E1</td>\n",
       "      <td>Las Vegas</td>\n",
       "      <td>NV</td>\n",
       "      <td>89110</td>\n",
       "      <td>36.169353</td>\n",
       "      <td>-115.061694</td>\n",
       "      <td>...</td>\n",
       "      <td>0</td>\n",
       "      <td>0</td>\n",
       "      <td>0</td>\n",
       "      <td>0</td>\n",
       "      <td>0</td>\n",
       "      <td>0</td>\n",
       "      <td>0</td>\n",
       "      <td>0</td>\n",
       "      <td>0</td>\n",
       "      <td>0</td>\n",
       "    </tr>\n",
       "    <tr>\n",
       "      <td>35</td>\n",
       "      <td>145</td>\n",
       "      <td>6llKs7K_tn8ChXcIM-oTvg</td>\n",
       "      <td>Sansei Japan</td>\n",
       "      <td>Eastside</td>\n",
       "      <td>3480 S Maryland Pkwy</td>\n",
       "      <td>Las Vegas</td>\n",
       "      <td>NV</td>\n",
       "      <td>89169</td>\n",
       "      <td>36.125934</td>\n",
       "      <td>-115.135253</td>\n",
       "      <td>...</td>\n",
       "      <td>0</td>\n",
       "      <td>0</td>\n",
       "      <td>0</td>\n",
       "      <td>0</td>\n",
       "      <td>0</td>\n",
       "      <td>0</td>\n",
       "      <td>0</td>\n",
       "      <td>0</td>\n",
       "      <td>0</td>\n",
       "      <td>0</td>\n",
       "    </tr>\n",
       "  </tbody>\n",
       "</table>\n",
       "<p>5 rows × 421 columns</p>\n",
       "</div>"
      ],
      "text/plain": [
       "    org_index             business_id                       name neighborhood  \\\n",
       "8          32  kgffcoxT6BQp-gJ-UQ7Czw                     Subway    Summerlin   \n",
       "9          33  0jtRI7hVMpQHpUVtUy4ITw     Omelet House Summerlin    Summerlin   \n",
       "32        141  zhxnD7J5_sCrKSw5cwI9dQ  Popeyes Louisiana Kitchen      Sunrise   \n",
       "34        143  2kWrSFkIes_d2BMg4YrRtA                  Pizza Hut      Sunrise   \n",
       "35        145  6llKs7K_tn8ChXcIM-oTvg               Sansei Japan     Eastside   \n",
       "\n",
       "                       address       city state postal_code   latitude  \\\n",
       "8          2255 N Rampart Blvd  Las Vegas    NV       89128  36.201794   \n",
       "9          2227 N Rampart Blvd  Las Vegas    NV       89128  36.201990   \n",
       "32           4505 E Bonanza Rd  Las Vegas    NV       89110  36.173140   \n",
       "34  560 N. Nellis Blvd, Ste E1  Las Vegas    NV       89110  36.169353   \n",
       "35        3480 S Maryland Pkwy  Las Vegas    NV       89169  36.125934   \n",
       "\n",
       "     longitude  ...  Wholesale Stores  Wholesalers  \\\n",
       "8  -115.281981  ...                 0            0   \n",
       "9  -115.283122  ...                 0            0   \n",
       "32 -115.077945  ...                 0            0   \n",
       "34 -115.061694  ...                 0            0   \n",
       "35 -115.135253  ...                 0            0   \n",
       "\n",
       "    Windshield Installation & Repair Wine & Spirits Wine Bars  Wineries  \\\n",
       "8                                  0              0         0         0   \n",
       "9                                  0              0         0         0   \n",
       "32                                 0              0         0         0   \n",
       "34                                 0              0         0         0   \n",
       "35                                 0              0         0         0   \n",
       "\n",
       "    Women's Clothing  Yelp Events  Yoga  success  \n",
       "8                  0            0     0        0  \n",
       "9                  0            0     0        0  \n",
       "32                 0            0     0        0  \n",
       "34                 0            0     0        0  \n",
       "35                 0            0     0        0  \n",
       "\n",
       "[5 rows x 421 columns]"
      ]
     },
     "execution_count": 39,
     "metadata": {},
     "output_type": "execute_result"
    }
   ],
   "source": [
    "vegas_final.head(5)"
   ]
  }
 ],
 "metadata": {
  "colab": {
   "collapsed_sections": [],
   "name": "EDA_Groupby Cuisines.ipynb",
   "provenance": [
    {
     "file_id": "1lYqs299PBLMS5JZIL3_43CNxGVMhFqKq",
     "timestamp": 1574444414323
    }
   ]
  },
  "kernelspec": {
   "display_name": "Python 3",
   "language": "python",
   "name": "python3"
  },
  "language_info": {
   "codemirror_mode": {
    "name": "ipython",
    "version": 3
   },
   "file_extension": ".py",
   "mimetype": "text/x-python",
   "name": "python",
   "nbconvert_exporter": "python",
   "pygments_lexer": "ipython3",
   "version": "3.7.0"
  }
 },
 "nbformat": 4,
 "nbformat_minor": 1
}
